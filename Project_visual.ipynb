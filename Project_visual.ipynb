{
 "cells": [
  {
   "cell_type": "markdown",
   "metadata": {
    "slideshow": {
     "slide_type": "slide"
    }
   },
   "source": [
    "# Ford Gobike Data Exploration and Visualization"
   ]
  },
  {
   "cell_type": "markdown",
   "metadata": {
    "slideshow": {
     "slide_type": "subslide"
    }
   },
   "source": [
    "This document explores a dataset containing information about individual rides made in a bike-sharing system covering the greater San Francisco Bay area."
   ]
  },
  {
   "cell_type": "code",
   "execution_count": 1,
   "metadata": {
    "slideshow": {
     "slide_type": "skip"
    }
   },
   "outputs": [
    {
     "name": "stderr",
     "output_type": "stream",
     "text": [
      "C:\\Users\\Tony Tech\\Anaconda3\\lib\\site-packages\\statsmodels\\tools\\_testing.py:19: FutureWarning: pandas.util.testing is deprecated. Use the functions in the public API at pandas.testing instead.\n",
      "  import pandas.util.testing as tm\n"
     ]
    }
   ],
   "source": [
    "# import pakages\n",
    "import numpy as np\n",
    "import pandas as pd\n",
    "import matplotlib as mat\n",
    "import matplotlib.pyplot as plt\n",
    "import seaborn as sb\n",
    "\n",
    "%matplotlib inline"
   ]
  },
  {
   "cell_type": "markdown",
   "metadata": {
    "slideshow": {
     "slide_type": "skip"
    }
   },
   "source": [
    "## Data Assessing:"
   ]
  },
  {
   "cell_type": "code",
   "execution_count": 2,
   "metadata": {
    "slideshow": {
     "slide_type": "skip"
    }
   },
   "outputs": [
    {
     "data": {
      "text/html": [
       "<div>\n",
       "<style scoped>\n",
       "    .dataframe tbody tr th:only-of-type {\n",
       "        vertical-align: middle;\n",
       "    }\n",
       "\n",
       "    .dataframe tbody tr th {\n",
       "        vertical-align: top;\n",
       "    }\n",
       "\n",
       "    .dataframe thead th {\n",
       "        text-align: right;\n",
       "    }\n",
       "</style>\n",
       "<table border=\"1\" class=\"dataframe\">\n",
       "  <thead>\n",
       "    <tr style=\"text-align: right;\">\n",
       "      <th></th>\n",
       "      <th>duration_sec</th>\n",
       "      <th>start_time</th>\n",
       "      <th>end_time</th>\n",
       "      <th>start_station_id</th>\n",
       "      <th>start_station_name</th>\n",
       "      <th>start_station_latitude</th>\n",
       "      <th>start_station_longitude</th>\n",
       "      <th>end_station_id</th>\n",
       "      <th>end_station_name</th>\n",
       "      <th>end_station_latitude</th>\n",
       "      <th>end_station_longitude</th>\n",
       "      <th>bike_id</th>\n",
       "      <th>user_type</th>\n",
       "      <th>member_birth_year</th>\n",
       "      <th>member_gender</th>\n",
       "      <th>bike_share_for_all_trip</th>\n",
       "    </tr>\n",
       "  </thead>\n",
       "  <tbody>\n",
       "    <tr>\n",
       "      <th>0</th>\n",
       "      <td>52185</td>\n",
       "      <td>2019-02-28 17:32:10.1450</td>\n",
       "      <td>2019-03-01 08:01:55.9750</td>\n",
       "      <td>21.0</td>\n",
       "      <td>Montgomery St BART Station (Market St at 2nd St)</td>\n",
       "      <td>37.789625</td>\n",
       "      <td>-122.400811</td>\n",
       "      <td>13.0</td>\n",
       "      <td>Commercial St at Montgomery St</td>\n",
       "      <td>37.794231</td>\n",
       "      <td>-122.402923</td>\n",
       "      <td>4902</td>\n",
       "      <td>Customer</td>\n",
       "      <td>1984.0</td>\n",
       "      <td>Male</td>\n",
       "      <td>No</td>\n",
       "    </tr>\n",
       "    <tr>\n",
       "      <th>1</th>\n",
       "      <td>42521</td>\n",
       "      <td>2019-02-28 18:53:21.7890</td>\n",
       "      <td>2019-03-01 06:42:03.0560</td>\n",
       "      <td>23.0</td>\n",
       "      <td>The Embarcadero at Steuart St</td>\n",
       "      <td>37.791464</td>\n",
       "      <td>-122.391034</td>\n",
       "      <td>81.0</td>\n",
       "      <td>Berry St at 4th St</td>\n",
       "      <td>37.775880</td>\n",
       "      <td>-122.393170</td>\n",
       "      <td>2535</td>\n",
       "      <td>Customer</td>\n",
       "      <td>NaN</td>\n",
       "      <td>NaN</td>\n",
       "      <td>No</td>\n",
       "    </tr>\n",
       "    <tr>\n",
       "      <th>2</th>\n",
       "      <td>61854</td>\n",
       "      <td>2019-02-28 12:13:13.2180</td>\n",
       "      <td>2019-03-01 05:24:08.1460</td>\n",
       "      <td>86.0</td>\n",
       "      <td>Market St at Dolores St</td>\n",
       "      <td>37.769305</td>\n",
       "      <td>-122.426826</td>\n",
       "      <td>3.0</td>\n",
       "      <td>Powell St BART Station (Market St at 4th St)</td>\n",
       "      <td>37.786375</td>\n",
       "      <td>-122.404904</td>\n",
       "      <td>5905</td>\n",
       "      <td>Customer</td>\n",
       "      <td>1972.0</td>\n",
       "      <td>Male</td>\n",
       "      <td>No</td>\n",
       "    </tr>\n",
       "    <tr>\n",
       "      <th>3</th>\n",
       "      <td>36490</td>\n",
       "      <td>2019-02-28 17:54:26.0100</td>\n",
       "      <td>2019-03-01 04:02:36.8420</td>\n",
       "      <td>375.0</td>\n",
       "      <td>Grove St at Masonic Ave</td>\n",
       "      <td>37.774836</td>\n",
       "      <td>-122.446546</td>\n",
       "      <td>70.0</td>\n",
       "      <td>Central Ave at Fell St</td>\n",
       "      <td>37.773311</td>\n",
       "      <td>-122.444293</td>\n",
       "      <td>6638</td>\n",
       "      <td>Subscriber</td>\n",
       "      <td>1989.0</td>\n",
       "      <td>Other</td>\n",
       "      <td>No</td>\n",
       "    </tr>\n",
       "    <tr>\n",
       "      <th>4</th>\n",
       "      <td>1585</td>\n",
       "      <td>2019-02-28 23:54:18.5490</td>\n",
       "      <td>2019-03-01 00:20:44.0740</td>\n",
       "      <td>7.0</td>\n",
       "      <td>Frank H Ogawa Plaza</td>\n",
       "      <td>37.804562</td>\n",
       "      <td>-122.271738</td>\n",
       "      <td>222.0</td>\n",
       "      <td>10th Ave at E 15th St</td>\n",
       "      <td>37.792714</td>\n",
       "      <td>-122.248780</td>\n",
       "      <td>4898</td>\n",
       "      <td>Subscriber</td>\n",
       "      <td>1974.0</td>\n",
       "      <td>Male</td>\n",
       "      <td>Yes</td>\n",
       "    </tr>\n",
       "  </tbody>\n",
       "</table>\n",
       "</div>"
      ],
      "text/plain": [
       "   duration_sec                start_time                  end_time  \\\n",
       "0         52185  2019-02-28 17:32:10.1450  2019-03-01 08:01:55.9750   \n",
       "1         42521  2019-02-28 18:53:21.7890  2019-03-01 06:42:03.0560   \n",
       "2         61854  2019-02-28 12:13:13.2180  2019-03-01 05:24:08.1460   \n",
       "3         36490  2019-02-28 17:54:26.0100  2019-03-01 04:02:36.8420   \n",
       "4          1585  2019-02-28 23:54:18.5490  2019-03-01 00:20:44.0740   \n",
       "\n",
       "   start_station_id                                start_station_name  \\\n",
       "0              21.0  Montgomery St BART Station (Market St at 2nd St)   \n",
       "1              23.0                     The Embarcadero at Steuart St   \n",
       "2              86.0                           Market St at Dolores St   \n",
       "3             375.0                           Grove St at Masonic Ave   \n",
       "4               7.0                               Frank H Ogawa Plaza   \n",
       "\n",
       "   start_station_latitude  start_station_longitude  end_station_id  \\\n",
       "0               37.789625              -122.400811            13.0   \n",
       "1               37.791464              -122.391034            81.0   \n",
       "2               37.769305              -122.426826             3.0   \n",
       "3               37.774836              -122.446546            70.0   \n",
       "4               37.804562              -122.271738           222.0   \n",
       "\n",
       "                               end_station_name  end_station_latitude  \\\n",
       "0                Commercial St at Montgomery St             37.794231   \n",
       "1                            Berry St at 4th St             37.775880   \n",
       "2  Powell St BART Station (Market St at 4th St)             37.786375   \n",
       "3                        Central Ave at Fell St             37.773311   \n",
       "4                         10th Ave at E 15th St             37.792714   \n",
       "\n",
       "   end_station_longitude  bike_id   user_type  member_birth_year  \\\n",
       "0            -122.402923     4902    Customer             1984.0   \n",
       "1            -122.393170     2535    Customer                NaN   \n",
       "2            -122.404904     5905    Customer             1972.0   \n",
       "3            -122.444293     6638  Subscriber             1989.0   \n",
       "4            -122.248780     4898  Subscriber             1974.0   \n",
       "\n",
       "  member_gender bike_share_for_all_trip  \n",
       "0          Male                      No  \n",
       "1           NaN                      No  \n",
       "2          Male                      No  \n",
       "3         Other                      No  \n",
       "4          Male                     Yes  "
      ]
     },
     "execution_count": 2,
     "metadata": {},
     "output_type": "execute_result"
    }
   ],
   "source": [
    "#load data\n",
    "df = pd.read_csv('201902-fordgobike-tripdata.csv')\n",
    "df.head()"
   ]
  },
  {
   "cell_type": "code",
   "execution_count": 3,
   "metadata": {
    "slideshow": {
     "slide_type": "-"
    }
   },
   "outputs": [
    {
     "name": "stdout",
     "output_type": "stream",
     "text": [
      "(183412, 16)\n",
      "duration_sec                 int64\n",
      "start_time                  object\n",
      "end_time                    object\n",
      "start_station_id           float64\n",
      "start_station_name          object\n",
      "start_station_latitude     float64\n",
      "start_station_longitude    float64\n",
      "end_station_id             float64\n",
      "end_station_name            object\n",
      "end_station_latitude       float64\n",
      "end_station_longitude      float64\n",
      "bike_id                      int64\n",
      "user_type                   object\n",
      "member_birth_year          float64\n",
      "member_gender               object\n",
      "bike_share_for_all_trip     object\n",
      "dtype: object\n"
     ]
    }
   ],
   "source": [
    "# overview of data shape and composition\n",
    "print(df.shape)\n",
    "print(df.dtypes)"
   ]
  },
  {
   "cell_type": "code",
   "execution_count": 4,
   "metadata": {
    "slideshow": {
     "slide_type": "-"
    }
   },
   "outputs": [
    {
     "data": {
      "text/plain": [
       "Subscriber    163544\n",
       "Customer       19868\n",
       "Name: user_type, dtype: int64"
      ]
     },
     "execution_count": 4,
     "metadata": {},
     "output_type": "execute_result"
    }
   ],
   "source": [
    "df.user_type.value_counts()"
   ]
  },
  {
   "cell_type": "code",
   "execution_count": 5,
   "metadata": {
    "slideshow": {
     "slide_type": "-"
    }
   },
   "outputs": [
    {
     "data": {
      "text/plain": [
       "Male      130651\n",
       "Female     40844\n",
       "Other       3652\n",
       "Name: member_gender, dtype: int64"
      ]
     },
     "execution_count": 5,
     "metadata": {},
     "output_type": "execute_result"
    }
   ],
   "source": [
    "df.member_gender.value_counts()"
   ]
  },
  {
   "cell_type": "code",
   "execution_count": 6,
   "metadata": {
    "slideshow": {
     "slide_type": "-"
    }
   },
   "outputs": [
    {
     "data": {
      "text/plain": [
       "No     166053\n",
       "Yes     17359\n",
       "Name: bike_share_for_all_trip, dtype: int64"
      ]
     },
     "execution_count": 6,
     "metadata": {},
     "output_type": "execute_result"
    }
   ],
   "source": [
    "df.bike_share_for_all_trip.value_counts()"
   ]
  },
  {
   "cell_type": "code",
   "execution_count": 7,
   "metadata": {
    "slideshow": {
     "slide_type": "-"
    }
   },
   "outputs": [
    {
     "name": "stdout",
     "output_type": "stream",
     "text": [
      "<class 'pandas.core.frame.DataFrame'>\n",
      "RangeIndex: 183412 entries, 0 to 183411\n",
      "Data columns (total 16 columns):\n",
      " #   Column                   Non-Null Count   Dtype  \n",
      "---  ------                   --------------   -----  \n",
      " 0   duration_sec             183412 non-null  int64  \n",
      " 1   start_time               183412 non-null  object \n",
      " 2   end_time                 183412 non-null  object \n",
      " 3   start_station_id         183215 non-null  float64\n",
      " 4   start_station_name       183215 non-null  object \n",
      " 5   start_station_latitude   183412 non-null  float64\n",
      " 6   start_station_longitude  183412 non-null  float64\n",
      " 7   end_station_id           183215 non-null  float64\n",
      " 8   end_station_name         183215 non-null  object \n",
      " 9   end_station_latitude     183412 non-null  float64\n",
      " 10  end_station_longitude    183412 non-null  float64\n",
      " 11  bike_id                  183412 non-null  int64  \n",
      " 12  user_type                183412 non-null  object \n",
      " 13  member_birth_year        175147 non-null  float64\n",
      " 14  member_gender            175147 non-null  object \n",
      " 15  bike_share_for_all_trip  183412 non-null  object \n",
      "dtypes: float64(7), int64(2), object(7)\n",
      "memory usage: 22.4+ MB\n",
      "None\n"
     ]
    }
   ],
   "source": [
    "print(df.info())"
   ]
  },
  {
   "cell_type": "code",
   "execution_count": 8,
   "metadata": {
    "slideshow": {
     "slide_type": "-"
    }
   },
   "outputs": [
    {
     "data": {
      "text/plain": [
       "duration_sec                  0\n",
       "start_time                    0\n",
       "end_time                      0\n",
       "start_station_id            197\n",
       "start_station_name          197\n",
       "start_station_latitude        0\n",
       "start_station_longitude       0\n",
       "end_station_id              197\n",
       "end_station_name            197\n",
       "end_station_latitude          0\n",
       "end_station_longitude         0\n",
       "bike_id                       0\n",
       "user_type                     0\n",
       "member_birth_year          8265\n",
       "member_gender              8265\n",
       "bike_share_for_all_trip       0\n",
       "dtype: int64"
      ]
     },
     "execution_count": 8,
     "metadata": {},
     "output_type": "execute_result"
    }
   ],
   "source": [
    "df.isnull().sum() "
   ]
  },
  {
   "cell_type": "markdown",
   "metadata": {
    "slideshow": {
     "slide_type": "-"
    }
   },
   "source": [
    "## Data Cleaning:\n",
    "##### -remove nans \n",
    "##### -change dates to datetime\n",
    "##### -divide \"start_time\" colum to two columns(start_hour, start_day)\n",
    "##### -change the data type for \"bike_share_for_all_trip to\" be bool\n",
    "##### -convert \"duration_sec\" to duration by minutes \n",
    "##### -add \"member_age\" column\n"
   ]
  },
  {
   "cell_type": "code",
   "execution_count": 9,
   "metadata": {
    "slideshow": {
     "slide_type": "-"
    }
   },
   "outputs": [],
   "source": [
    "#remove nans\n",
    "df.dropna(inplace= True)"
   ]
  },
  {
   "cell_type": "code",
   "execution_count": 10,
   "metadata": {
    "slideshow": {
     "slide_type": "-"
    }
   },
   "outputs": [
    {
     "data": {
      "text/plain": [
       "0"
      ]
     },
     "execution_count": 10,
     "metadata": {},
     "output_type": "execute_result"
    }
   ],
   "source": [
    "df.isnull().sum().sum()"
   ]
  },
  {
   "cell_type": "code",
   "execution_count": 11,
   "metadata": {
    "slideshow": {
     "slide_type": "-"
    }
   },
   "outputs": [],
   "source": [
    "#change date to datetime\n",
    "df.start_time = pd.to_datetime(df.start_time)\n",
    "df.end_time = pd.to_datetime(df.end_time)"
   ]
  },
  {
   "cell_type": "code",
   "execution_count": 12,
   "metadata": {
    "scrolled": true,
    "slideshow": {
     "slide_type": "-"
    }
   },
   "outputs": [
    {
     "name": "stdout",
     "output_type": "stream",
     "text": [
      "<class 'pandas.core.frame.DataFrame'>\n",
      "Int64Index: 174952 entries, 0 to 183411\n",
      "Data columns (total 2 columns):\n",
      " #   Column      Non-Null Count   Dtype         \n",
      "---  ------      --------------   -----         \n",
      " 0   start_time  174952 non-null  datetime64[ns]\n",
      " 1   end_time    174952 non-null  datetime64[ns]\n",
      "dtypes: datetime64[ns](2)\n",
      "memory usage: 4.0 MB\n"
     ]
    }
   ],
   "source": [
    "df[['start_time', 'end_time']].info()"
   ]
  },
  {
   "cell_type": "code",
   "execution_count": 13,
   "metadata": {
    "slideshow": {
     "slide_type": "-"
    }
   },
   "outputs": [],
   "source": [
    "#divide start_time colum to two columns(start_hour, start_day)\n",
    "df['start_hour'] = df.start_time.dt.strftime('%H')\n",
    "df['start_day'] = df.start_time.dt.strftime('%A')"
   ]
  },
  {
   "cell_type": "code",
   "execution_count": 14,
   "metadata": {
    "slideshow": {
     "slide_type": "-"
    }
   },
   "outputs": [],
   "source": [
    "#change the data type for bike_share_for_all_trip to be bool\n",
    "df.bike_share_for_all_trip = (df.bike_share_for_all_trip == 'Yes')"
   ]
  },
  {
   "cell_type": "code",
   "execution_count": 15,
   "metadata": {
    "slideshow": {
     "slide_type": "-"
    }
   },
   "outputs": [
    {
     "name": "stdout",
     "output_type": "stream",
     "text": [
      "<class 'pandas.core.frame.DataFrame'>\n",
      "Int64Index: 174952 entries, 0 to 183411\n",
      "Data columns (total 1 columns):\n",
      " #   Column                   Non-Null Count   Dtype\n",
      "---  ------                   --------------   -----\n",
      " 0   bike_share_for_all_trip  174952 non-null  bool \n",
      "dtypes: bool(1)\n",
      "memory usage: 1.5 MB\n"
     ]
    }
   ],
   "source": [
    "df[['bike_share_for_all_trip']].info()"
   ]
  },
  {
   "cell_type": "code",
   "execution_count": 16,
   "metadata": {
    "slideshow": {
     "slide_type": "-"
    }
   },
   "outputs": [],
   "source": [
    "#add 'member_age' column\n",
    "df['member_age'] = 2021 - df['member_birth_year']"
   ]
  },
  {
   "cell_type": "code",
   "execution_count": 17,
   "metadata": {
    "slideshow": {
     "slide_type": "-"
    }
   },
   "outputs": [],
   "source": [
    "#convert 'duration_sec' to duration by minutes\n",
    "df['duration_mins'] = df['duration_sec']/60"
   ]
  },
  {
   "cell_type": "code",
   "execution_count": 18,
   "metadata": {
    "slideshow": {
     "slide_type": "-"
    }
   },
   "outputs": [
    {
     "data": {
      "text/html": [
       "<div>\n",
       "<style scoped>\n",
       "    .dataframe tbody tr th:only-of-type {\n",
       "        vertical-align: middle;\n",
       "    }\n",
       "\n",
       "    .dataframe tbody tr th {\n",
       "        vertical-align: top;\n",
       "    }\n",
       "\n",
       "    .dataframe thead th {\n",
       "        text-align: right;\n",
       "    }\n",
       "</style>\n",
       "<table border=\"1\" class=\"dataframe\">\n",
       "  <thead>\n",
       "    <tr style=\"text-align: right;\">\n",
       "      <th></th>\n",
       "      <th>duration_sec</th>\n",
       "      <th>start_time</th>\n",
       "      <th>end_time</th>\n",
       "      <th>start_station_id</th>\n",
       "      <th>start_station_name</th>\n",
       "      <th>start_station_latitude</th>\n",
       "      <th>start_station_longitude</th>\n",
       "      <th>end_station_id</th>\n",
       "      <th>end_station_name</th>\n",
       "      <th>end_station_latitude</th>\n",
       "      <th>end_station_longitude</th>\n",
       "      <th>bike_id</th>\n",
       "      <th>user_type</th>\n",
       "      <th>member_birth_year</th>\n",
       "      <th>member_gender</th>\n",
       "      <th>bike_share_for_all_trip</th>\n",
       "      <th>start_hour</th>\n",
       "      <th>start_day</th>\n",
       "      <th>member_age</th>\n",
       "      <th>duration_mins</th>\n",
       "    </tr>\n",
       "  </thead>\n",
       "  <tbody>\n",
       "    <tr>\n",
       "      <th>0</th>\n",
       "      <td>52185</td>\n",
       "      <td>2019-02-28 17:32:10.145</td>\n",
       "      <td>2019-03-01 08:01:55.975</td>\n",
       "      <td>21.0</td>\n",
       "      <td>Montgomery St BART Station (Market St at 2nd St)</td>\n",
       "      <td>37.789625</td>\n",
       "      <td>-122.400811</td>\n",
       "      <td>13.0</td>\n",
       "      <td>Commercial St at Montgomery St</td>\n",
       "      <td>37.794231</td>\n",
       "      <td>-122.402923</td>\n",
       "      <td>4902</td>\n",
       "      <td>Customer</td>\n",
       "      <td>1984.0</td>\n",
       "      <td>Male</td>\n",
       "      <td>False</td>\n",
       "      <td>17</td>\n",
       "      <td>Thursday</td>\n",
       "      <td>37.0</td>\n",
       "      <td>869.750000</td>\n",
       "    </tr>\n",
       "    <tr>\n",
       "      <th>2</th>\n",
       "      <td>61854</td>\n",
       "      <td>2019-02-28 12:13:13.218</td>\n",
       "      <td>2019-03-01 05:24:08.146</td>\n",
       "      <td>86.0</td>\n",
       "      <td>Market St at Dolores St</td>\n",
       "      <td>37.769305</td>\n",
       "      <td>-122.426826</td>\n",
       "      <td>3.0</td>\n",
       "      <td>Powell St BART Station (Market St at 4th St)</td>\n",
       "      <td>37.786375</td>\n",
       "      <td>-122.404904</td>\n",
       "      <td>5905</td>\n",
       "      <td>Customer</td>\n",
       "      <td>1972.0</td>\n",
       "      <td>Male</td>\n",
       "      <td>False</td>\n",
       "      <td>12</td>\n",
       "      <td>Thursday</td>\n",
       "      <td>49.0</td>\n",
       "      <td>1030.900000</td>\n",
       "    </tr>\n",
       "    <tr>\n",
       "      <th>3</th>\n",
       "      <td>36490</td>\n",
       "      <td>2019-02-28 17:54:26.010</td>\n",
       "      <td>2019-03-01 04:02:36.842</td>\n",
       "      <td>375.0</td>\n",
       "      <td>Grove St at Masonic Ave</td>\n",
       "      <td>37.774836</td>\n",
       "      <td>-122.446546</td>\n",
       "      <td>70.0</td>\n",
       "      <td>Central Ave at Fell St</td>\n",
       "      <td>37.773311</td>\n",
       "      <td>-122.444293</td>\n",
       "      <td>6638</td>\n",
       "      <td>Subscriber</td>\n",
       "      <td>1989.0</td>\n",
       "      <td>Other</td>\n",
       "      <td>False</td>\n",
       "      <td>17</td>\n",
       "      <td>Thursday</td>\n",
       "      <td>32.0</td>\n",
       "      <td>608.166667</td>\n",
       "    </tr>\n",
       "    <tr>\n",
       "      <th>4</th>\n",
       "      <td>1585</td>\n",
       "      <td>2019-02-28 23:54:18.549</td>\n",
       "      <td>2019-03-01 00:20:44.074</td>\n",
       "      <td>7.0</td>\n",
       "      <td>Frank H Ogawa Plaza</td>\n",
       "      <td>37.804562</td>\n",
       "      <td>-122.271738</td>\n",
       "      <td>222.0</td>\n",
       "      <td>10th Ave at E 15th St</td>\n",
       "      <td>37.792714</td>\n",
       "      <td>-122.248780</td>\n",
       "      <td>4898</td>\n",
       "      <td>Subscriber</td>\n",
       "      <td>1974.0</td>\n",
       "      <td>Male</td>\n",
       "      <td>True</td>\n",
       "      <td>23</td>\n",
       "      <td>Thursday</td>\n",
       "      <td>47.0</td>\n",
       "      <td>26.416667</td>\n",
       "    </tr>\n",
       "    <tr>\n",
       "      <th>5</th>\n",
       "      <td>1793</td>\n",
       "      <td>2019-02-28 23:49:58.632</td>\n",
       "      <td>2019-03-01 00:19:51.760</td>\n",
       "      <td>93.0</td>\n",
       "      <td>4th St at Mission Bay Blvd S</td>\n",
       "      <td>37.770407</td>\n",
       "      <td>-122.391198</td>\n",
       "      <td>323.0</td>\n",
       "      <td>Broadway at Kearny</td>\n",
       "      <td>37.798014</td>\n",
       "      <td>-122.405950</td>\n",
       "      <td>5200</td>\n",
       "      <td>Subscriber</td>\n",
       "      <td>1959.0</td>\n",
       "      <td>Male</td>\n",
       "      <td>False</td>\n",
       "      <td>23</td>\n",
       "      <td>Thursday</td>\n",
       "      <td>62.0</td>\n",
       "      <td>29.883333</td>\n",
       "    </tr>\n",
       "  </tbody>\n",
       "</table>\n",
       "</div>"
      ],
      "text/plain": [
       "   duration_sec              start_time                end_time  \\\n",
       "0         52185 2019-02-28 17:32:10.145 2019-03-01 08:01:55.975   \n",
       "2         61854 2019-02-28 12:13:13.218 2019-03-01 05:24:08.146   \n",
       "3         36490 2019-02-28 17:54:26.010 2019-03-01 04:02:36.842   \n",
       "4          1585 2019-02-28 23:54:18.549 2019-03-01 00:20:44.074   \n",
       "5          1793 2019-02-28 23:49:58.632 2019-03-01 00:19:51.760   \n",
       "\n",
       "   start_station_id                                start_station_name  \\\n",
       "0              21.0  Montgomery St BART Station (Market St at 2nd St)   \n",
       "2              86.0                           Market St at Dolores St   \n",
       "3             375.0                           Grove St at Masonic Ave   \n",
       "4               7.0                               Frank H Ogawa Plaza   \n",
       "5              93.0                      4th St at Mission Bay Blvd S   \n",
       "\n",
       "   start_station_latitude  start_station_longitude  end_station_id  \\\n",
       "0               37.789625              -122.400811            13.0   \n",
       "2               37.769305              -122.426826             3.0   \n",
       "3               37.774836              -122.446546            70.0   \n",
       "4               37.804562              -122.271738           222.0   \n",
       "5               37.770407              -122.391198           323.0   \n",
       "\n",
       "                               end_station_name  end_station_latitude  \\\n",
       "0                Commercial St at Montgomery St             37.794231   \n",
       "2  Powell St BART Station (Market St at 4th St)             37.786375   \n",
       "3                        Central Ave at Fell St             37.773311   \n",
       "4                         10th Ave at E 15th St             37.792714   \n",
       "5                            Broadway at Kearny             37.798014   \n",
       "\n",
       "   end_station_longitude  bike_id   user_type  member_birth_year  \\\n",
       "0            -122.402923     4902    Customer             1984.0   \n",
       "2            -122.404904     5905    Customer             1972.0   \n",
       "3            -122.444293     6638  Subscriber             1989.0   \n",
       "4            -122.248780     4898  Subscriber             1974.0   \n",
       "5            -122.405950     5200  Subscriber             1959.0   \n",
       "\n",
       "  member_gender  bike_share_for_all_trip start_hour start_day  member_age  \\\n",
       "0          Male                    False         17  Thursday        37.0   \n",
       "2          Male                    False         12  Thursday        49.0   \n",
       "3         Other                    False         17  Thursday        32.0   \n",
       "4          Male                     True         23  Thursday        47.0   \n",
       "5          Male                    False         23  Thursday        62.0   \n",
       "\n",
       "   duration_mins  \n",
       "0     869.750000  \n",
       "2    1030.900000  \n",
       "3     608.166667  \n",
       "4      26.416667  \n",
       "5      29.883333  "
      ]
     },
     "execution_count": 18,
     "metadata": {},
     "output_type": "execute_result"
    }
   ],
   "source": [
    "df.head()"
   ]
  },
  {
   "cell_type": "code",
   "execution_count": 19,
   "metadata": {
    "slideshow": {
     "slide_type": "-"
    }
   },
   "outputs": [
    {
     "data": {
      "text/html": [
       "<div>\n",
       "<style scoped>\n",
       "    .dataframe tbody tr th:only-of-type {\n",
       "        vertical-align: middle;\n",
       "    }\n",
       "\n",
       "    .dataframe tbody tr th {\n",
       "        vertical-align: top;\n",
       "    }\n",
       "\n",
       "    .dataframe thead th {\n",
       "        text-align: right;\n",
       "    }\n",
       "</style>\n",
       "<table border=\"1\" class=\"dataframe\">\n",
       "  <thead>\n",
       "    <tr style=\"text-align: right;\">\n",
       "      <th></th>\n",
       "      <th>duration_sec</th>\n",
       "      <th>start_station_id</th>\n",
       "      <th>start_station_latitude</th>\n",
       "      <th>start_station_longitude</th>\n",
       "      <th>end_station_id</th>\n",
       "      <th>end_station_latitude</th>\n",
       "      <th>end_station_longitude</th>\n",
       "      <th>bike_id</th>\n",
       "      <th>member_birth_year</th>\n",
       "      <th>member_age</th>\n",
       "      <th>duration_mins</th>\n",
       "    </tr>\n",
       "  </thead>\n",
       "  <tbody>\n",
       "    <tr>\n",
       "      <th>count</th>\n",
       "      <td>174952.000000</td>\n",
       "      <td>174952.000000</td>\n",
       "      <td>174952.000000</td>\n",
       "      <td>174952.000000</td>\n",
       "      <td>174952.000000</td>\n",
       "      <td>174952.000000</td>\n",
       "      <td>174952.000000</td>\n",
       "      <td>174952.000000</td>\n",
       "      <td>174952.000000</td>\n",
       "      <td>174952.000000</td>\n",
       "      <td>174952.000000</td>\n",
       "    </tr>\n",
       "    <tr>\n",
       "      <th>mean</th>\n",
       "      <td>704.002744</td>\n",
       "      <td>139.002126</td>\n",
       "      <td>37.771220</td>\n",
       "      <td>-122.351760</td>\n",
       "      <td>136.604486</td>\n",
       "      <td>37.771414</td>\n",
       "      <td>-122.351335</td>\n",
       "      <td>4482.587555</td>\n",
       "      <td>1984.803135</td>\n",
       "      <td>36.196865</td>\n",
       "      <td>11.733379</td>\n",
       "    </tr>\n",
       "    <tr>\n",
       "      <th>std</th>\n",
       "      <td>1642.204905</td>\n",
       "      <td>111.648819</td>\n",
       "      <td>0.100391</td>\n",
       "      <td>0.117732</td>\n",
       "      <td>111.335635</td>\n",
       "      <td>0.100295</td>\n",
       "      <td>0.117294</td>\n",
       "      <td>1659.195937</td>\n",
       "      <td>10.118731</td>\n",
       "      <td>10.118731</td>\n",
       "      <td>27.370082</td>\n",
       "    </tr>\n",
       "    <tr>\n",
       "      <th>min</th>\n",
       "      <td>61.000000</td>\n",
       "      <td>3.000000</td>\n",
       "      <td>37.317298</td>\n",
       "      <td>-122.453704</td>\n",
       "      <td>3.000000</td>\n",
       "      <td>37.317298</td>\n",
       "      <td>-122.453704</td>\n",
       "      <td>11.000000</td>\n",
       "      <td>1878.000000</td>\n",
       "      <td>20.000000</td>\n",
       "      <td>1.016667</td>\n",
       "    </tr>\n",
       "    <tr>\n",
       "      <th>25%</th>\n",
       "      <td>323.000000</td>\n",
       "      <td>47.000000</td>\n",
       "      <td>37.770407</td>\n",
       "      <td>-122.411901</td>\n",
       "      <td>44.000000</td>\n",
       "      <td>37.770407</td>\n",
       "      <td>-122.411647</td>\n",
       "      <td>3799.000000</td>\n",
       "      <td>1980.000000</td>\n",
       "      <td>29.000000</td>\n",
       "      <td>5.383333</td>\n",
       "    </tr>\n",
       "    <tr>\n",
       "      <th>50%</th>\n",
       "      <td>510.000000</td>\n",
       "      <td>104.000000</td>\n",
       "      <td>37.780760</td>\n",
       "      <td>-122.398279</td>\n",
       "      <td>101.000000</td>\n",
       "      <td>37.781010</td>\n",
       "      <td>-122.397437</td>\n",
       "      <td>4960.000000</td>\n",
       "      <td>1987.000000</td>\n",
       "      <td>34.000000</td>\n",
       "      <td>8.500000</td>\n",
       "    </tr>\n",
       "    <tr>\n",
       "      <th>75%</th>\n",
       "      <td>789.000000</td>\n",
       "      <td>239.000000</td>\n",
       "      <td>37.797320</td>\n",
       "      <td>-122.283093</td>\n",
       "      <td>238.000000</td>\n",
       "      <td>37.797673</td>\n",
       "      <td>-122.286533</td>\n",
       "      <td>5505.000000</td>\n",
       "      <td>1992.000000</td>\n",
       "      <td>41.000000</td>\n",
       "      <td>13.150000</td>\n",
       "    </tr>\n",
       "    <tr>\n",
       "      <th>max</th>\n",
       "      <td>84548.000000</td>\n",
       "      <td>398.000000</td>\n",
       "      <td>37.880222</td>\n",
       "      <td>-121.874119</td>\n",
       "      <td>398.000000</td>\n",
       "      <td>37.880222</td>\n",
       "      <td>-121.874119</td>\n",
       "      <td>6645.000000</td>\n",
       "      <td>2001.000000</td>\n",
       "      <td>143.000000</td>\n",
       "      <td>1409.133333</td>\n",
       "    </tr>\n",
       "  </tbody>\n",
       "</table>\n",
       "</div>"
      ],
      "text/plain": [
       "        duration_sec  start_station_id  start_station_latitude  \\\n",
       "count  174952.000000     174952.000000           174952.000000   \n",
       "mean      704.002744        139.002126               37.771220   \n",
       "std      1642.204905        111.648819                0.100391   \n",
       "min        61.000000          3.000000               37.317298   \n",
       "25%       323.000000         47.000000               37.770407   \n",
       "50%       510.000000        104.000000               37.780760   \n",
       "75%       789.000000        239.000000               37.797320   \n",
       "max     84548.000000        398.000000               37.880222   \n",
       "\n",
       "       start_station_longitude  end_station_id  end_station_latitude  \\\n",
       "count            174952.000000   174952.000000         174952.000000   \n",
       "mean               -122.351760      136.604486             37.771414   \n",
       "std                   0.117732      111.335635              0.100295   \n",
       "min                -122.453704        3.000000             37.317298   \n",
       "25%                -122.411901       44.000000             37.770407   \n",
       "50%                -122.398279      101.000000             37.781010   \n",
       "75%                -122.283093      238.000000             37.797673   \n",
       "max                -121.874119      398.000000             37.880222   \n",
       "\n",
       "       end_station_longitude        bike_id  member_birth_year     member_age  \\\n",
       "count          174952.000000  174952.000000      174952.000000  174952.000000   \n",
       "mean             -122.351335    4482.587555        1984.803135      36.196865   \n",
       "std                 0.117294    1659.195937          10.118731      10.118731   \n",
       "min              -122.453704      11.000000        1878.000000      20.000000   \n",
       "25%              -122.411647    3799.000000        1980.000000      29.000000   \n",
       "50%              -122.397437    4960.000000        1987.000000      34.000000   \n",
       "75%              -122.286533    5505.000000        1992.000000      41.000000   \n",
       "max              -121.874119    6645.000000        2001.000000     143.000000   \n",
       "\n",
       "       duration_mins  \n",
       "count  174952.000000  \n",
       "mean       11.733379  \n",
       "std        27.370082  \n",
       "min         1.016667  \n",
       "25%         5.383333  \n",
       "50%         8.500000  \n",
       "75%        13.150000  \n",
       "max      1409.133333  "
      ]
     },
     "execution_count": 19,
     "metadata": {},
     "output_type": "execute_result"
    }
   ],
   "source": [
    "df.describe()"
   ]
  },
  {
   "cell_type": "code",
   "execution_count": 20,
   "metadata": {
    "slideshow": {
     "slide_type": "-"
    }
   },
   "outputs": [
    {
     "data": {
      "text/plain": [
       "(174952, 20)"
      ]
     },
     "execution_count": 20,
     "metadata": {},
     "output_type": "execute_result"
    }
   ],
   "source": [
    "df.shape"
   ]
  },
  {
   "cell_type": "markdown",
   "metadata": {
    "slideshow": {
     "slide_type": "slide"
    }
   },
   "source": [
    "### Data Exploration:"
   ]
  },
  {
   "cell_type": "markdown",
   "metadata": {
    "slideshow": {
     "slide_type": "slide"
    }
   },
   "source": [
    "## The structure of the dataset \n",
    "<br>\n",
    "- The data after wrangling contains 174952 individual trip records with 20 variables collected. The variables can be divided into 4 major categories:<br>"
   ]
  },
  {
   "cell_type": "markdown",
   "metadata": {
    "slideshow": {
     "slide_type": "slide"
    }
   },
   "source": [
    "#### 1- trip duration info: <br>\n",
    "(duration_sec, duration_mins) <br>\n",
    "<br>\n",
    "#### 2- station info: <br>\n",
    "(start_station_id, start_station_name, start_station_latitude, start_station_longitude, end_station_id, end_station_name, end_station_latitude, end_station_longitude) <br>\n",
    "<br>\n",
    "#### 3- time info: <br>\n",
    "(start_time, start_hour, start_day, end_time) <br>\n",
    "<br>\n",
    "#### 4- user info: <br>\n",
    "(bike_id, user_type, member_birth_year, member_gender, bike_share_for_all_trip, member_age)\n",
    "<br>\n",
    "<br>\n",
    "##### Variables are drived to 11 numerical variables, and others are 4 datetime, 4 object 'string' type and 1 is boolean type."
   ]
  },
  {
   "cell_type": "markdown",
   "metadata": {
    "slideshow": {
     "slide_type": "slide"
    }
   },
   "source": [
    "### What is/are the main feature(s) of interest in the dataset?\n",
    "<br>\n",
    "- in my opinion the main feature to the company will be the trip duration and how it changes by the influence of other features.\n",
    "<br>\n",
    "<br>\n",
    "- also, how trip duration may influnece other features.\n",
    "<br>\n",
    "<br>\n",
    "- some important other features are (start and end station, start hour, start day, gender and age)"
   ]
  },
  {
   "cell_type": "markdown",
   "metadata": {
    "slideshow": {
     "slide_type": "slide"
    }
   },
   "source": [
    "### What features in the dataset will help support the investigation into feature(s) of interest?\n",
    "<br>\n",
    "- the start station and end station will affect duration owing to the distance between them.\n",
    "<br>\n",
    "- user type, member gender and member age will also affect the duration of the trip.\n",
    "<br>\n",
    "- Also 'bike_share_for_all_trip' may affect the duration of the trip."
   ]
  },
  {
   "cell_type": "markdown",
   "metadata": {
    "slideshow": {
     "slide_type": "slide"
    }
   },
   "source": [
    "## Univariate Exploration:"
   ]
  },
  {
   "cell_type": "code",
   "execution_count": 21,
   "metadata": {
    "scrolled": true,
    "slideshow": {
     "slide_type": "-"
    }
   },
   "outputs": [
    {
     "data": {
      "image/png": "[encoded data removed]",
      "text/plain": [
       "<Figure size 576x288 with 1 Axes>"
      ]
     },
     "metadata": {
      "needs_background": "light"
     },
     "output_type": "display_data"
    }
   ],
   "source": [
    "# start by looking for the distribution of the main variable\n",
    "plt.figure(figsize=[8, 4])\n",
    "bins = np.arange(df['duration_mins'].min(), df['duration_mins'].max(), 1)\n",
    "plt.hist(data= df, x='duration_mins', bins=bins)\n",
    "plt.xlabel('Duration in mins');"
   ]
  },
  {
   "cell_type": "code",
   "execution_count": 22,
   "metadata": {
    "slideshow": {
     "slide_type": "slide"
    }
   },
   "outputs": [
    {
     "data": {
      "image/png": "[encoded data removed]",
      "text/plain": [
       "<Figure size 576x288 with 1 Axes>"
      ]
     },
     "metadata": {
      "needs_background": "light"
     },
     "output_type": "display_data"
    }
   ],
   "source": [
    "# looking for duration between 1 min and 1 hour\n",
    "plt.figure(figsize=[8, 4])\n",
    "bins = np.arange(df['duration_mins'].min(), df['duration_mins'].max(), 1)\n",
    "plt.hist(data= df, x='duration_mins', bins=bins)\n",
    "plt.xlim(1, 65)\n",
    "plt.xlabel('Duration in mins');\n"
   ]
  },
  {
   "cell_type": "code",
   "execution_count": 23,
   "metadata": {
    "scrolled": true
   },
   "outputs": [
    {
     "data": {
      "text/plain": [
       "count    12.072267\n",
       "mean      2.462438\n",
       "std       3.309451\n",
       "min       0.016529\n",
       "25%       1.683308\n",
       "50%       2.140066\n",
       "75%       2.576422\n",
       "max       7.250730\n",
       "Name: duration_mins, dtype: float64"
      ]
     },
     "execution_count": 23,
     "metadata": {},
     "output_type": "execute_result"
    }
   ],
   "source": [
    "# lets's try to change the scale \n",
    "np.log(df.duration_mins.describe())"
   ]
  },
  {
   "cell_type": "code",
   "execution_count": 24,
   "metadata": {},
   "outputs": [
    {
     "data": {
      "text/plain": [
       "4.0943445622221"
      ]
     },
     "execution_count": 24,
     "metadata": {},
     "output_type": "execute_result"
    }
   ],
   "source": [
    "np.log(60)"
   ]
  },
  {
   "cell_type": "code",
   "execution_count": 25,
   "metadata": {
    "slideshow": {
     "slide_type": "slide"
    }
   },
   "outputs": [
    {
     "data": {
      "image/png": "[encoded data removed]",
      "text/plain": [
       "<Figure size 864x432 with 1 Axes>"
      ]
     },
     "metadata": {
      "needs_background": "light"
     },
     "output_type": "display_data"
    }
   ],
   "source": [
    "plt.figure(figsize=[12, 6])\n",
    "# Get the ticks for bins between [0 - maximum duration]\n",
    "bins = 10 ** np.arange(0, 4.09+0.1, 0.1)\n",
    "\n",
    "# Generate the x-ticks you want to apply\n",
    "ticks = [0.1, 0.3, 1, 3, 10, 30, 100, 300, 1000]\n",
    "# Convert ticks into string values, to be displaye dlong the x-axis\n",
    "labels = ['{}'.format(v) for v in ticks]\n",
    "\n",
    "# Plot the histogram\n",
    "plt.hist(data= df, x='duration_mins', bins=bins);\n",
    "\n",
    "# The argument in the xscale() represents the axis scale type to apply.\n",
    "# The possible values are: {\"linear\", \"log\", \"symlog\", \"logit\", ...}\n",
    "plt.xscale('log')\n",
    "\n",
    "# Apply x-ticks\n",
    "plt.xticks(ticks, labels)\n",
    "plt.xlabel('Duration in mins')\n",
    "plt.ylabel('Numbr of trips');"
   ]
  },
  {
   "cell_type": "markdown",
   "metadata": {
    "slideshow": {
     "slide_type": "slide"
    }
   },
   "source": [
    "###### looks like there's not many trips exceed one hour duration and most trips are between 3 to 30 minutes.\n"
   ]
  },
  {
   "cell_type": "markdown",
   "metadata": {
    "slideshow": {
     "slide_type": "slide"
    }
   },
   "source": [
    "### Now, let's look to the variables that describe the users"
   ]
  },
  {
   "cell_type": "code",
   "execution_count": 26,
   "metadata": {
    "slideshow": {
     "slide_type": "skip"
    }
   },
   "outputs": [
    {
     "data": {
      "text/plain": [
       "count    174952.000000\n",
       "mean         36.196865\n",
       "std          10.118731\n",
       "min          20.000000\n",
       "25%          29.000000\n",
       "50%          34.000000\n",
       "75%          41.000000\n",
       "max         143.000000\n",
       "Name: member_age, dtype: float64"
      ]
     },
     "execution_count": 26,
     "metadata": {},
     "output_type": "execute_result"
    }
   ],
   "source": [
    "# let's look to the age\n",
    "df.member_age.describe()"
   ]
  },
  {
   "cell_type": "code",
   "execution_count": 27,
   "metadata": {
    "scrolled": true,
    "slideshow": {
     "slide_type": "skip"
    }
   },
   "outputs": [
    {
     "data": {
      "text/html": [
       "<div>\n",
       "<style scoped>\n",
       "    .dataframe tbody tr th:only-of-type {\n",
       "        vertical-align: middle;\n",
       "    }\n",
       "\n",
       "    .dataframe tbody tr th {\n",
       "        vertical-align: top;\n",
       "    }\n",
       "\n",
       "    .dataframe thead th {\n",
       "        text-align: right;\n",
       "    }\n",
       "</style>\n",
       "<table border=\"1\" class=\"dataframe\">\n",
       "  <thead>\n",
       "    <tr style=\"text-align: right;\">\n",
       "      <th></th>\n",
       "      <th>duration_sec</th>\n",
       "      <th>start_time</th>\n",
       "      <th>end_time</th>\n",
       "      <th>start_station_id</th>\n",
       "      <th>start_station_name</th>\n",
       "      <th>start_station_latitude</th>\n",
       "      <th>start_station_longitude</th>\n",
       "      <th>end_station_id</th>\n",
       "      <th>end_station_name</th>\n",
       "      <th>end_station_latitude</th>\n",
       "      <th>end_station_longitude</th>\n",
       "      <th>bike_id</th>\n",
       "      <th>user_type</th>\n",
       "      <th>member_birth_year</th>\n",
       "      <th>member_gender</th>\n",
       "      <th>bike_share_for_all_trip</th>\n",
       "      <th>start_hour</th>\n",
       "      <th>start_day</th>\n",
       "      <th>member_age</th>\n",
       "      <th>duration_mins</th>\n",
       "    </tr>\n",
       "  </thead>\n",
       "  <tbody>\n",
       "    <tr>\n",
       "      <th>1285</th>\n",
       "      <td>148</td>\n",
       "      <td>2019-02-28 19:29:17.627</td>\n",
       "      <td>2019-02-28 19:31:45.967</td>\n",
       "      <td>158.0</td>\n",
       "      <td>Shattuck Ave at Telegraph Ave</td>\n",
       "      <td>37.833279</td>\n",
       "      <td>-122.263490</td>\n",
       "      <td>173.0</td>\n",
       "      <td>Shattuck Ave at 55th St</td>\n",
       "      <td>37.840364</td>\n",
       "      <td>-122.264488</td>\n",
       "      <td>5391</td>\n",
       "      <td>Subscriber</td>\n",
       "      <td>1900.0</td>\n",
       "      <td>Male</td>\n",
       "      <td>True</td>\n",
       "      <td>19</td>\n",
       "      <td>Thursday</td>\n",
       "      <td>121.0</td>\n",
       "      <td>2.466667</td>\n",
       "    </tr>\n",
       "    <tr>\n",
       "      <th>2085</th>\n",
       "      <td>694</td>\n",
       "      <td>2019-02-28 18:21:05.187</td>\n",
       "      <td>2019-02-28 18:32:39.596</td>\n",
       "      <td>107.0</td>\n",
       "      <td>17th St at Dolores St</td>\n",
       "      <td>37.763015</td>\n",
       "      <td>-122.426497</td>\n",
       "      <td>89.0</td>\n",
       "      <td>Division St at Potrero Ave</td>\n",
       "      <td>37.769218</td>\n",
       "      <td>-122.407646</td>\n",
       "      <td>385</td>\n",
       "      <td>Subscriber</td>\n",
       "      <td>1941.0</td>\n",
       "      <td>Male</td>\n",
       "      <td>False</td>\n",
       "      <td>18</td>\n",
       "      <td>Thursday</td>\n",
       "      <td>80.0</td>\n",
       "      <td>11.566667</td>\n",
       "    </tr>\n",
       "    <tr>\n",
       "      <th>5197</th>\n",
       "      <td>217</td>\n",
       "      <td>2019-02-28 13:51:46.238</td>\n",
       "      <td>2019-02-28 13:55:24.127</td>\n",
       "      <td>70.0</td>\n",
       "      <td>Central Ave at Fell St</td>\n",
       "      <td>37.773311</td>\n",
       "      <td>-122.444293</td>\n",
       "      <td>71.0</td>\n",
       "      <td>Broderick St at Oak St</td>\n",
       "      <td>37.773063</td>\n",
       "      <td>-122.439078</td>\n",
       "      <td>5801</td>\n",
       "      <td>Subscriber</td>\n",
       "      <td>1931.0</td>\n",
       "      <td>Male</td>\n",
       "      <td>False</td>\n",
       "      <td>13</td>\n",
       "      <td>Thursday</td>\n",
       "      <td>90.0</td>\n",
       "      <td>3.616667</td>\n",
       "    </tr>\n",
       "    <tr>\n",
       "      <th>5266</th>\n",
       "      <td>384</td>\n",
       "      <td>2019-02-28 13:35:05.428</td>\n",
       "      <td>2019-02-28 13:41:30.223</td>\n",
       "      <td>84.0</td>\n",
       "      <td>Duboce Park</td>\n",
       "      <td>37.769200</td>\n",
       "      <td>-122.433812</td>\n",
       "      <td>71.0</td>\n",
       "      <td>Broderick St at Oak St</td>\n",
       "      <td>37.773063</td>\n",
       "      <td>-122.439078</td>\n",
       "      <td>6608</td>\n",
       "      <td>Subscriber</td>\n",
       "      <td>1931.0</td>\n",
       "      <td>Male</td>\n",
       "      <td>False</td>\n",
       "      <td>13</td>\n",
       "      <td>Thursday</td>\n",
       "      <td>90.0</td>\n",
       "      <td>6.400000</td>\n",
       "    </tr>\n",
       "    <tr>\n",
       "      <th>5447</th>\n",
       "      <td>147</td>\n",
       "      <td>2019-02-28 13:08:56.935</td>\n",
       "      <td>2019-02-28 13:11:24.062</td>\n",
       "      <td>84.0</td>\n",
       "      <td>Duboce Park</td>\n",
       "      <td>37.769200</td>\n",
       "      <td>-122.433812</td>\n",
       "      <td>72.0</td>\n",
       "      <td>Page St at Scott St</td>\n",
       "      <td>37.772406</td>\n",
       "      <td>-122.435650</td>\n",
       "      <td>5018</td>\n",
       "      <td>Subscriber</td>\n",
       "      <td>1931.0</td>\n",
       "      <td>Male</td>\n",
       "      <td>False</td>\n",
       "      <td>13</td>\n",
       "      <td>Thursday</td>\n",
       "      <td>90.0</td>\n",
       "      <td>2.450000</td>\n",
       "    </tr>\n",
       "    <tr>\n",
       "      <th>...</th>\n",
       "      <td>...</td>\n",
       "      <td>...</td>\n",
       "      <td>...</td>\n",
       "      <td>...</td>\n",
       "      <td>...</td>\n",
       "      <td>...</td>\n",
       "      <td>...</td>\n",
       "      <td>...</td>\n",
       "      <td>...</td>\n",
       "      <td>...</td>\n",
       "      <td>...</td>\n",
       "      <td>...</td>\n",
       "      <td>...</td>\n",
       "      <td>...</td>\n",
       "      <td>...</td>\n",
       "      <td>...</td>\n",
       "      <td>...</td>\n",
       "      <td>...</td>\n",
       "      <td>...</td>\n",
       "      <td>...</td>\n",
       "    </tr>\n",
       "    <tr>\n",
       "      <th>177885</th>\n",
       "      <td>517</td>\n",
       "      <td>2019-02-01 18:38:40.471</td>\n",
       "      <td>2019-02-01 18:47:18.392</td>\n",
       "      <td>25.0</td>\n",
       "      <td>Howard St at 2nd St</td>\n",
       "      <td>37.787522</td>\n",
       "      <td>-122.397405</td>\n",
       "      <td>30.0</td>\n",
       "      <td>San Francisco Caltrain (Townsend St at 4th St)</td>\n",
       "      <td>37.776598</td>\n",
       "      <td>-122.395282</td>\n",
       "      <td>2175</td>\n",
       "      <td>Subscriber</td>\n",
       "      <td>1902.0</td>\n",
       "      <td>Female</td>\n",
       "      <td>False</td>\n",
       "      <td>18</td>\n",
       "      <td>Friday</td>\n",
       "      <td>119.0</td>\n",
       "      <td>8.616667</td>\n",
       "    </tr>\n",
       "    <tr>\n",
       "      <th>177955</th>\n",
       "      <td>377</td>\n",
       "      <td>2019-02-01 18:23:33.411</td>\n",
       "      <td>2019-02-01 18:29:50.795</td>\n",
       "      <td>26.0</td>\n",
       "      <td>1st St at Folsom St</td>\n",
       "      <td>37.787290</td>\n",
       "      <td>-122.394380</td>\n",
       "      <td>321.0</td>\n",
       "      <td>5th St at Folsom</td>\n",
       "      <td>37.780146</td>\n",
       "      <td>-122.403071</td>\n",
       "      <td>5444</td>\n",
       "      <td>Subscriber</td>\n",
       "      <td>1933.0</td>\n",
       "      <td>Female</td>\n",
       "      <td>True</td>\n",
       "      <td>18</td>\n",
       "      <td>Friday</td>\n",
       "      <td>88.0</td>\n",
       "      <td>6.283333</td>\n",
       "    </tr>\n",
       "    <tr>\n",
       "      <th>179280</th>\n",
       "      <td>355</td>\n",
       "      <td>2019-02-01 14:32:42.247</td>\n",
       "      <td>2019-02-01 14:38:37.896</td>\n",
       "      <td>134.0</td>\n",
       "      <td>Valencia St at 24th St</td>\n",
       "      <td>37.752428</td>\n",
       "      <td>-122.420628</td>\n",
       "      <td>131.0</td>\n",
       "      <td>22nd St at Dolores St</td>\n",
       "      <td>37.755000</td>\n",
       "      <td>-122.425728</td>\n",
       "      <td>1815</td>\n",
       "      <td>Subscriber</td>\n",
       "      <td>1938.0</td>\n",
       "      <td>Male</td>\n",
       "      <td>False</td>\n",
       "      <td>14</td>\n",
       "      <td>Friday</td>\n",
       "      <td>83.0</td>\n",
       "      <td>5.916667</td>\n",
       "    </tr>\n",
       "    <tr>\n",
       "      <th>182830</th>\n",
       "      <td>428</td>\n",
       "      <td>2019-02-01 07:45:05.934</td>\n",
       "      <td>2019-02-01 07:52:14.922</td>\n",
       "      <td>284.0</td>\n",
       "      <td>Yerba Buena Center for the Arts (Howard St at ...</td>\n",
       "      <td>37.784872</td>\n",
       "      <td>-122.400876</td>\n",
       "      <td>67.0</td>\n",
       "      <td>San Francisco Caltrain Station 2  (Townsend St...</td>\n",
       "      <td>37.776639</td>\n",
       "      <td>-122.395526</td>\n",
       "      <td>5031</td>\n",
       "      <td>Subscriber</td>\n",
       "      <td>1901.0</td>\n",
       "      <td>Male</td>\n",
       "      <td>False</td>\n",
       "      <td>07</td>\n",
       "      <td>Friday</td>\n",
       "      <td>120.0</td>\n",
       "      <td>7.133333</td>\n",
       "    </tr>\n",
       "    <tr>\n",
       "      <th>183388</th>\n",
       "      <td>490</td>\n",
       "      <td>2019-02-01 00:39:53.112</td>\n",
       "      <td>2019-02-01 00:48:03.338</td>\n",
       "      <td>61.0</td>\n",
       "      <td>Howard St at 8th St</td>\n",
       "      <td>37.776513</td>\n",
       "      <td>-122.411306</td>\n",
       "      <td>81.0</td>\n",
       "      <td>Berry St at 4th St</td>\n",
       "      <td>37.775880</td>\n",
       "      <td>-122.393170</td>\n",
       "      <td>5411</td>\n",
       "      <td>Subscriber</td>\n",
       "      <td>1927.0</td>\n",
       "      <td>Male</td>\n",
       "      <td>False</td>\n",
       "      <td>00</td>\n",
       "      <td>Friday</td>\n",
       "      <td>94.0</td>\n",
       "      <td>8.166667</td>\n",
       "    </tr>\n",
       "  </tbody>\n",
       "</table>\n",
       "<p>212 rows × 20 columns</p>\n",
       "</div>"
      ],
      "text/plain": [
       "        duration_sec              start_time                end_time  \\\n",
       "1285             148 2019-02-28 19:29:17.627 2019-02-28 19:31:45.967   \n",
       "2085             694 2019-02-28 18:21:05.187 2019-02-28 18:32:39.596   \n",
       "5197             217 2019-02-28 13:51:46.238 2019-02-28 13:55:24.127   \n",
       "5266             384 2019-02-28 13:35:05.428 2019-02-28 13:41:30.223   \n",
       "5447             147 2019-02-28 13:08:56.935 2019-02-28 13:11:24.062   \n",
       "...              ...                     ...                     ...   \n",
       "177885           517 2019-02-01 18:38:40.471 2019-02-01 18:47:18.392   \n",
       "177955           377 2019-02-01 18:23:33.411 2019-02-01 18:29:50.795   \n",
       "179280           355 2019-02-01 14:32:42.247 2019-02-01 14:38:37.896   \n",
       "182830           428 2019-02-01 07:45:05.934 2019-02-01 07:52:14.922   \n",
       "183388           490 2019-02-01 00:39:53.112 2019-02-01 00:48:03.338   \n",
       "\n",
       "        start_station_id                                 start_station_name  \\\n",
       "1285               158.0                      Shattuck Ave at Telegraph Ave   \n",
       "2085               107.0                              17th St at Dolores St   \n",
       "5197                70.0                             Central Ave at Fell St   \n",
       "5266                84.0                                        Duboce Park   \n",
       "5447                84.0                                        Duboce Park   \n",
       "...                  ...                                                ...   \n",
       "177885              25.0                                Howard St at 2nd St   \n",
       "177955              26.0                                1st St at Folsom St   \n",
       "179280             134.0                             Valencia St at 24th St   \n",
       "182830             284.0  Yerba Buena Center for the Arts (Howard St at ...   \n",
       "183388              61.0                                Howard St at 8th St   \n",
       "\n",
       "        start_station_latitude  start_station_longitude  end_station_id  \\\n",
       "1285                 37.833279              -122.263490           173.0   \n",
       "2085                 37.763015              -122.426497            89.0   \n",
       "5197                 37.773311              -122.444293            71.0   \n",
       "5266                 37.769200              -122.433812            71.0   \n",
       "5447                 37.769200              -122.433812            72.0   \n",
       "...                        ...                      ...             ...   \n",
       "177885               37.787522              -122.397405            30.0   \n",
       "177955               37.787290              -122.394380           321.0   \n",
       "179280               37.752428              -122.420628           131.0   \n",
       "182830               37.784872              -122.400876            67.0   \n",
       "183388               37.776513              -122.411306            81.0   \n",
       "\n",
       "                                         end_station_name  \\\n",
       "1285                              Shattuck Ave at 55th St   \n",
       "2085                           Division St at Potrero Ave   \n",
       "5197                               Broderick St at Oak St   \n",
       "5266                               Broderick St at Oak St   \n",
       "5447                                  Page St at Scott St   \n",
       "...                                                   ...   \n",
       "177885     San Francisco Caltrain (Townsend St at 4th St)   \n",
       "177955                                   5th St at Folsom   \n",
       "179280                              22nd St at Dolores St   \n",
       "182830  San Francisco Caltrain Station 2  (Townsend St...   \n",
       "183388                                 Berry St at 4th St   \n",
       "\n",
       "        end_station_latitude  end_station_longitude  bike_id   user_type  \\\n",
       "1285               37.840364            -122.264488     5391  Subscriber   \n",
       "2085               37.769218            -122.407646      385  Subscriber   \n",
       "5197               37.773063            -122.439078     5801  Subscriber   \n",
       "5266               37.773063            -122.439078     6608  Subscriber   \n",
       "5447               37.772406            -122.435650     5018  Subscriber   \n",
       "...                      ...                    ...      ...         ...   \n",
       "177885             37.776598            -122.395282     2175  Subscriber   \n",
       "177955             37.780146            -122.403071     5444  Subscriber   \n",
       "179280             37.755000            -122.425728     1815  Subscriber   \n",
       "182830             37.776639            -122.395526     5031  Subscriber   \n",
       "183388             37.775880            -122.393170     5411  Subscriber   \n",
       "\n",
       "        member_birth_year member_gender  bike_share_for_all_trip start_hour  \\\n",
       "1285               1900.0          Male                     True         19   \n",
       "2085               1941.0          Male                    False         18   \n",
       "5197               1931.0          Male                    False         13   \n",
       "5266               1931.0          Male                    False         13   \n",
       "5447               1931.0          Male                    False         13   \n",
       "...                   ...           ...                      ...        ...   \n",
       "177885             1902.0        Female                    False         18   \n",
       "177955             1933.0        Female                     True         18   \n",
       "179280             1938.0          Male                    False         14   \n",
       "182830             1901.0          Male                    False         07   \n",
       "183388             1927.0          Male                    False         00   \n",
       "\n",
       "       start_day  member_age  duration_mins  \n",
       "1285    Thursday       121.0       2.466667  \n",
       "2085    Thursday        80.0      11.566667  \n",
       "5197    Thursday        90.0       3.616667  \n",
       "5266    Thursday        90.0       6.400000  \n",
       "5447    Thursday        90.0       2.450000  \n",
       "...          ...         ...            ...  \n",
       "177885    Friday       119.0       8.616667  \n",
       "177955    Friday        88.0       6.283333  \n",
       "179280    Friday        83.0       5.916667  \n",
       "182830    Friday       120.0       7.133333  \n",
       "183388    Friday        94.0       8.166667  \n",
       "\n",
       "[212 rows x 20 columns]"
      ]
     },
     "execution_count": 27,
     "metadata": {},
     "output_type": "execute_result"
    }
   ],
   "source": [
    "df[df['member_age'] >= 80]"
   ]
  },
  {
   "cell_type": "code",
   "execution_count": 28,
   "metadata": {
    "slideshow": {
     "slide_type": "slide"
    }
   },
   "outputs": [
    {
     "data": {
      "image/png": "[encoded data removed]",
      "text/plain": [
       "<Figure size 576x288 with 1 Axes>"
      ]
     },
     "metadata": {
      "needs_background": "light"
     },
     "output_type": "display_data"
    }
   ],
   "source": [
    "# show age distribution\n",
    "plt.figure(figsize=[8, 4])\n",
    "bins = np.arange(df['member_age'].min(), df['member_age'].max(), 1)\n",
    "plt.hist(data= df, x='member_age', bins=bins)\n",
    "plt.xlabel('Member age');"
   ]
  },
  {
   "cell_type": "markdown",
   "metadata": {
    "slideshow": {
     "slide_type": "slide"
    }
   },
   "source": [
    "###### looks like there's some data limitations in the age columns because there's some ages that exceeds 100 !!, so we will limit our data to the age of 80"
   ]
  },
  {
   "cell_type": "code",
   "execution_count": 29,
   "metadata": {
    "slideshow": {
     "slide_type": "slide"
    }
   },
   "outputs": [
    {
     "data": {
      "image/png": "[encoded data removed]",
      "text/plain": [
       "<Figure size 864x432 with 1 Axes>"
      ]
     },
     "metadata": {
      "needs_background": "light"
     },
     "output_type": "display_data"
    }
   ],
   "source": [
    "# show age distribution\n",
    "plt.figure(figsize=[12, 6])\n",
    "bins = np.arange(df['member_age'].min(), df['member_age'].max(), 1)\n",
    "plt.hist(data= df, x='member_age', bins=bins)\n",
    "plt.xlim(20, 80)\n",
    "plt.xlabel('Member age');"
   ]
  },
  {
   "cell_type": "markdown",
   "metadata": {
    "slideshow": {
     "slide_type": "slide"
    }
   },
   "source": [
    "###### looks like that our main course of  users are young people between 20's and 40's, but to make the data more obvious we are going to do some more wrangling by dividing \"member_age\" column to three categories (young, middle aged, old)."
   ]
  },
  {
   "cell_type": "code",
   "execution_count": 30,
   "metadata": {},
   "outputs": [],
   "source": [
    "# make new column that divide member age to three categories ['young', 'middle aged', 'old']\n",
    "bin_edges = [20, 40, 60, 80]\n",
    "bin_labels = ['young', 'middle aged', 'old']\n",
    "\n",
    "df['member_age_group'] = pd.cut(df['member_age'], bin_edges, labels = bin_labels)"
   ]
  },
  {
   "cell_type": "code",
   "execution_count": 31,
   "metadata": {
    "scrolled": false
   },
   "outputs": [
    {
     "data": {
      "text/html": [
       "<div>\n",
       "<style scoped>\n",
       "    .dataframe tbody tr th:only-of-type {\n",
       "        vertical-align: middle;\n",
       "    }\n",
       "\n",
       "    .dataframe tbody tr th {\n",
       "        vertical-align: top;\n",
       "    }\n",
       "\n",
       "    .dataframe thead th {\n",
       "        text-align: right;\n",
       "    }\n",
       "</style>\n",
       "<table border=\"1\" class=\"dataframe\">\n",
       "  <thead>\n",
       "    <tr style=\"text-align: right;\">\n",
       "      <th></th>\n",
       "      <th>duration_sec</th>\n",
       "      <th>start_time</th>\n",
       "      <th>end_time</th>\n",
       "      <th>start_station_id</th>\n",
       "      <th>start_station_name</th>\n",
       "      <th>start_station_latitude</th>\n",
       "      <th>start_station_longitude</th>\n",
       "      <th>end_station_id</th>\n",
       "      <th>end_station_name</th>\n",
       "      <th>end_station_latitude</th>\n",
       "      <th>...</th>\n",
       "      <th>bike_id</th>\n",
       "      <th>user_type</th>\n",
       "      <th>member_birth_year</th>\n",
       "      <th>member_gender</th>\n",
       "      <th>bike_share_for_all_trip</th>\n",
       "      <th>start_hour</th>\n",
       "      <th>start_day</th>\n",
       "      <th>member_age</th>\n",
       "      <th>duration_mins</th>\n",
       "      <th>member_age_group</th>\n",
       "    </tr>\n",
       "  </thead>\n",
       "  <tbody>\n",
       "    <tr>\n",
       "      <th>0</th>\n",
       "      <td>52185</td>\n",
       "      <td>2019-02-28 17:32:10.145</td>\n",
       "      <td>2019-03-01 08:01:55.975</td>\n",
       "      <td>21.0</td>\n",
       "      <td>Montgomery St BART Station (Market St at 2nd St)</td>\n",
       "      <td>37.789625</td>\n",
       "      <td>-122.400811</td>\n",
       "      <td>13.0</td>\n",
       "      <td>Commercial St at Montgomery St</td>\n",
       "      <td>37.794231</td>\n",
       "      <td>...</td>\n",
       "      <td>4902</td>\n",
       "      <td>Customer</td>\n",
       "      <td>1984.0</td>\n",
       "      <td>Male</td>\n",
       "      <td>False</td>\n",
       "      <td>17</td>\n",
       "      <td>Thursday</td>\n",
       "      <td>37.0</td>\n",
       "      <td>869.750000</td>\n",
       "      <td>young</td>\n",
       "    </tr>\n",
       "    <tr>\n",
       "      <th>2</th>\n",
       "      <td>61854</td>\n",
       "      <td>2019-02-28 12:13:13.218</td>\n",
       "      <td>2019-03-01 05:24:08.146</td>\n",
       "      <td>86.0</td>\n",
       "      <td>Market St at Dolores St</td>\n",
       "      <td>37.769305</td>\n",
       "      <td>-122.426826</td>\n",
       "      <td>3.0</td>\n",
       "      <td>Powell St BART Station (Market St at 4th St)</td>\n",
       "      <td>37.786375</td>\n",
       "      <td>...</td>\n",
       "      <td>5905</td>\n",
       "      <td>Customer</td>\n",
       "      <td>1972.0</td>\n",
       "      <td>Male</td>\n",
       "      <td>False</td>\n",
       "      <td>12</td>\n",
       "      <td>Thursday</td>\n",
       "      <td>49.0</td>\n",
       "      <td>1030.900000</td>\n",
       "      <td>middle aged</td>\n",
       "    </tr>\n",
       "    <tr>\n",
       "      <th>3</th>\n",
       "      <td>36490</td>\n",
       "      <td>2019-02-28 17:54:26.010</td>\n",
       "      <td>2019-03-01 04:02:36.842</td>\n",
       "      <td>375.0</td>\n",
       "      <td>Grove St at Masonic Ave</td>\n",
       "      <td>37.774836</td>\n",
       "      <td>-122.446546</td>\n",
       "      <td>70.0</td>\n",
       "      <td>Central Ave at Fell St</td>\n",
       "      <td>37.773311</td>\n",
       "      <td>...</td>\n",
       "      <td>6638</td>\n",
       "      <td>Subscriber</td>\n",
       "      <td>1989.0</td>\n",
       "      <td>Other</td>\n",
       "      <td>False</td>\n",
       "      <td>17</td>\n",
       "      <td>Thursday</td>\n",
       "      <td>32.0</td>\n",
       "      <td>608.166667</td>\n",
       "      <td>young</td>\n",
       "    </tr>\n",
       "    <tr>\n",
       "      <th>4</th>\n",
       "      <td>1585</td>\n",
       "      <td>2019-02-28 23:54:18.549</td>\n",
       "      <td>2019-03-01 00:20:44.074</td>\n",
       "      <td>7.0</td>\n",
       "      <td>Frank H Ogawa Plaza</td>\n",
       "      <td>37.804562</td>\n",
       "      <td>-122.271738</td>\n",
       "      <td>222.0</td>\n",
       "      <td>10th Ave at E 15th St</td>\n",
       "      <td>37.792714</td>\n",
       "      <td>...</td>\n",
       "      <td>4898</td>\n",
       "      <td>Subscriber</td>\n",
       "      <td>1974.0</td>\n",
       "      <td>Male</td>\n",
       "      <td>True</td>\n",
       "      <td>23</td>\n",
       "      <td>Thursday</td>\n",
       "      <td>47.0</td>\n",
       "      <td>26.416667</td>\n",
       "      <td>middle aged</td>\n",
       "    </tr>\n",
       "    <tr>\n",
       "      <th>5</th>\n",
       "      <td>1793</td>\n",
       "      <td>2019-02-28 23:49:58.632</td>\n",
       "      <td>2019-03-01 00:19:51.760</td>\n",
       "      <td>93.0</td>\n",
       "      <td>4th St at Mission Bay Blvd S</td>\n",
       "      <td>37.770407</td>\n",
       "      <td>-122.391198</td>\n",
       "      <td>323.0</td>\n",
       "      <td>Broadway at Kearny</td>\n",
       "      <td>37.798014</td>\n",
       "      <td>...</td>\n",
       "      <td>5200</td>\n",
       "      <td>Subscriber</td>\n",
       "      <td>1959.0</td>\n",
       "      <td>Male</td>\n",
       "      <td>False</td>\n",
       "      <td>23</td>\n",
       "      <td>Thursday</td>\n",
       "      <td>62.0</td>\n",
       "      <td>29.883333</td>\n",
       "      <td>old</td>\n",
       "    </tr>\n",
       "  </tbody>\n",
       "</table>\n",
       "<p>5 rows × 21 columns</p>\n",
       "</div>"
      ],
      "text/plain": [
       "   duration_sec              start_time                end_time  \\\n",
       "0         52185 2019-02-28 17:32:10.145 2019-03-01 08:01:55.975   \n",
       "2         61854 2019-02-28 12:13:13.218 2019-03-01 05:24:08.146   \n",
       "3         36490 2019-02-28 17:54:26.010 2019-03-01 04:02:36.842   \n",
       "4          1585 2019-02-28 23:54:18.549 2019-03-01 00:20:44.074   \n",
       "5          1793 2019-02-28 23:49:58.632 2019-03-01 00:19:51.760   \n",
       "\n",
       "   start_station_id                                start_station_name  \\\n",
       "0              21.0  Montgomery St BART Station (Market St at 2nd St)   \n",
       "2              86.0                           Market St at Dolores St   \n",
       "3             375.0                           Grove St at Masonic Ave   \n",
       "4               7.0                               Frank H Ogawa Plaza   \n",
       "5              93.0                      4th St at Mission Bay Blvd S   \n",
       "\n",
       "   start_station_latitude  start_station_longitude  end_station_id  \\\n",
       "0               37.789625              -122.400811            13.0   \n",
       "2               37.769305              -122.426826             3.0   \n",
       "3               37.774836              -122.446546            70.0   \n",
       "4               37.804562              -122.271738           222.0   \n",
       "5               37.770407              -122.391198           323.0   \n",
       "\n",
       "                               end_station_name  end_station_latitude  ...  \\\n",
       "0                Commercial St at Montgomery St             37.794231  ...   \n",
       "2  Powell St BART Station (Market St at 4th St)             37.786375  ...   \n",
       "3                        Central Ave at Fell St             37.773311  ...   \n",
       "4                         10th Ave at E 15th St             37.792714  ...   \n",
       "5                            Broadway at Kearny             37.798014  ...   \n",
       "\n",
       "   bike_id   user_type member_birth_year  member_gender  \\\n",
       "0     4902    Customer            1984.0           Male   \n",
       "2     5905    Customer            1972.0           Male   \n",
       "3     6638  Subscriber            1989.0          Other   \n",
       "4     4898  Subscriber            1974.0           Male   \n",
       "5     5200  Subscriber            1959.0           Male   \n",
       "\n",
       "  bike_share_for_all_trip  start_hour start_day member_age  duration_mins  \\\n",
       "0                   False          17  Thursday       37.0     869.750000   \n",
       "2                   False          12  Thursday       49.0    1030.900000   \n",
       "3                   False          17  Thursday       32.0     608.166667   \n",
       "4                    True          23  Thursday       47.0      26.416667   \n",
       "5                   False          23  Thursday       62.0      29.883333   \n",
       "\n",
       "   member_age_group  \n",
       "0             young  \n",
       "2       middle aged  \n",
       "3             young  \n",
       "4       middle aged  \n",
       "5               old  \n",
       "\n",
       "[5 rows x 21 columns]"
      ]
     },
     "execution_count": 31,
     "metadata": {},
     "output_type": "execute_result"
    }
   ],
   "source": [
    "# now we have a new column\n",
    "df.head()"
   ]
  },
  {
   "cell_type": "code",
   "execution_count": 32,
   "metadata": {
    "scrolled": false,
    "slideshow": {
     "slide_type": "slide"
    }
   },
   "outputs": [
    {
     "data": {
      "image/png": "[encoded data removed]",
      "text/plain": [
       "<Figure size 1800x360 with 2 Axes>"
      ]
     },
     "metadata": {
      "needs_background": "light"
     },
     "output_type": "display_data"
    }
   ],
   "source": [
    "# show age group distibution\n",
    "base_color = sb.color_palette()[0]\n",
    "plt.figure(figsize=[25, 5])\n",
    "\n",
    "plt.subplot(1, 2, 1)\n",
    "sb.countplot(data= df, x = df['member_age_group'], color = base_color)\n",
    "plt.xlabel('Age group');\n",
    "\n",
    "plt.subplot(1, 2, 2)\n",
    "plt.pie(df['member_age_group'].value_counts(), labels = ['young', 'middle aged', 'old'],\n",
    "        startangle = 90, counterclock = False, radius = 1.5, autopct = '%0.0f%%');"
   ]
  },
  {
   "cell_type": "markdown",
   "metadata": {
    "slideshow": {
     "slide_type": "slide"
    }
   },
   "source": [
    "###### looks like that about 75% of our users are young people between 20's and 40's"
   ]
  },
  {
   "cell_type": "code",
   "execution_count": 33,
   "metadata": {
    "slideshow": {
     "slide_type": "slide"
    }
   },
   "outputs": [
    {
     "data": {
      "image/png": "[encoded data removed]",
      "text/plain": [
       "<Figure size 432x288 with 1 Axes>"
      ]
     },
     "metadata": {},
     "output_type": "display_data"
    }
   ],
   "source": [
    "# show user type distribution\n",
    "plt.pie(df['user_type'].value_counts(), labels = ['Subscriber', 'Customer'],\n",
    "        startangle = 90, counterclock = False, radius = 1.5, autopct = '%0.2f%%');"
   ]
  },
  {
   "cell_type": "markdown",
   "metadata": {
    "slideshow": {
     "slide_type": "slide"
    }
   },
   "source": [
    "###### looks like that about 90% of our users are subscribers"
   ]
  },
  {
   "cell_type": "code",
   "execution_count": 34,
   "metadata": {
    "scrolled": false,
    "slideshow": {
     "slide_type": "slide"
    }
   },
   "outputs": [
    {
     "data": {
      "image/png": "[encoded data removed]",
      "text/plain": [
       "<Figure size 1800x360 with 2 Axes>"
      ]
     },
     "metadata": {
      "needs_background": "light"
     },
     "output_type": "display_data"
    }
   ],
   "source": [
    "# let's look to the gender\n",
    "base_color = sb.color_palette()[0]\n",
    "plt.figure(figsize=[25, 5])\n",
    "\n",
    "plt.subplot(1, 2, 1)\n",
    "sb.countplot(data= df, x = df['member_gender'], color = base_color)\n",
    "plt.xlabel('Gender');\n",
    "\n",
    "plt.subplot(1, 2, 2)\n",
    "plt.pie(df['member_gender'].value_counts(), labels = ['male', 'female', 'other'],\n",
    "        startangle = 90, counterclock = False, radius = 1.5, autopct = '%0.0f%%');"
   ]
  },
  {
   "cell_type": "markdown",
   "metadata": {
    "slideshow": {
     "slide_type": "slide"
    }
   },
   "source": [
    "###### looks like that about 75% of our users are males"
   ]
  },
  {
   "cell_type": "markdown",
   "metadata": {
    "slideshow": {
     "slide_type": "slide"
    }
   },
   "source": [
    "### Now, let's look to the variables that describe the time of the trip"
   ]
  },
  {
   "cell_type": "code",
   "execution_count": 35,
   "metadata": {
    "slideshow": {
     "slide_type": "slide"
    }
   },
   "outputs": [
    {
     "data": {
      "image/png": "[encoded data removed]",
      "text/plain": [
       "<Figure size 576x432 with 1 Axes>"
      ]
     },
     "metadata": {
      "needs_background": "light"
     },
     "output_type": "display_data"
    }
   ],
   "source": [
    "# let's see the distribution of trips in week days\n",
    "plt.figure(figsize=[8, 6])\n",
    "sb.countplot(data= df, y = df['start_day'], color = base_color, order = df['start_day'].value_counts().index)\n",
    "plt.ylabel('days of the weak');"
   ]
  },
  {
   "cell_type": "markdown",
   "metadata": {
    "slideshow": {
     "slide_type": "slide"
    }
   },
   "source": [
    "###### it looks like the trip count is decreased by 50% during Sunday and Saturday"
   ]
  },
  {
   "cell_type": "code",
   "execution_count": 36,
   "metadata": {
    "scrolled": true,
    "slideshow": {
     "slide_type": "slide"
    }
   },
   "outputs": [
    {
     "data": {
      "image/png": "[encoded data removed]",
      "text/plain": [
       "<Figure size 576x432 with 1 Axes>"
      ]
     },
     "metadata": {
      "needs_background": "light"
     },
     "output_type": "display_data"
    }
   ],
   "source": [
    "plt.figure(figsize=[8, 6])\n",
    "sb.countplot(data= df, x = df['start_hour'], color = base_color)\n",
    "plt.xlabel('day hours');"
   ]
  },
  {
   "cell_type": "markdown",
   "metadata": {
    "slideshow": {
     "slide_type": "slide"
    }
   },
   "source": [
    "###### it looks like that most of trips are occur between 7 a.m and 8 p.m, and it reachs to the peak at 8 a.m and 5 p.m"
   ]
  },
  {
   "cell_type": "markdown",
   "metadata": {
    "slideshow": {
     "slide_type": "slide"
    }
   },
   "source": [
    "### Now, let's look to the variables that describe the start and end stations"
   ]
  },
  {
   "cell_type": "code",
   "execution_count": 37,
   "metadata": {
    "slideshow": {
     "slide_type": "slide"
    }
   },
   "outputs": [
    {
     "data": {
      "image/png": "[encoded data removed]",
      "text/plain": [
       "<Figure size 864x1080 with 2 Axes>"
      ]
     },
     "metadata": {
      "needs_background": "light"
     },
     "output_type": "display_data"
    }
   ],
   "source": [
    "plt.figure(figsize=[12, 15])\n",
    "\n",
    "plt.subplot(2, 1, 1) \n",
    "sb.countplot(data= df, y = df['start_station_name'], color = base_color, order = df['start_station_name'].value_counts()\n",
    "             .index[:10])\n",
    "plt.ylabel('start stations');\n",
    "\n",
    "plt.subplot(2, 1, 2) \n",
    "sb.countplot(data= df, y = df['end_station_name'], color = base_color, order = df['end_station_name'].value_counts()\n",
    "             .index[:10])\n",
    "plt.ylabel('end stations');"
   ]
  },
  {
   "cell_type": "markdown",
   "metadata": {
    "slideshow": {
     "slide_type": "slide"
    }
   },
   "source": [
    "###### it looks like the popular start stations are almost the popular end stations too."
   ]
  },
  {
   "cell_type": "markdown",
   "metadata": {
    "slideshow": {
     "slide_type": "slide"
    }
   },
   "source": [
    "## Bivariate Exploration:"
   ]
  },
  {
   "cell_type": "markdown",
   "metadata": {
    "slideshow": {
     "slide_type": "slide"
    }
   },
   "source": [
    "###### Now let's take the trip duration and put it against other variabels that may affect it"
   ]
  },
  {
   "cell_type": "code",
   "execution_count": 38,
   "metadata": {
    "scrolled": true
   },
   "outputs": [
    {
     "data": {
      "image/png": "[encoded data removed]",
      "text/plain": [
       "<Figure size 432x288 with 1 Axes>"
      ]
     },
     "metadata": {
      "needs_background": "light"
     },
     "output_type": "display_data"
    }
   ],
   "source": [
    "# build barplot between duration time against week days\n",
    "sb.barplot(data= df, y='start_day', x='duration_mins', color=base_color);\n",
    "plt.ylabel('Day of Week');\n",
    "plt.xlabel('Avg. Trip Duration in Minute');"
   ]
  },
  {
   "cell_type": "markdown",
   "metadata": {
    "slideshow": {
     "slide_type": "slide"
    }
   },
   "source": [
    "###### looks like Sunday and Saturday have the highest duration average"
   ]
  },
  {
   "cell_type": "code",
   "execution_count": 39,
   "metadata": {
    "slideshow": {
     "slide_type": "slide"
    }
   },
   "outputs": [
    {
     "data": {
      "image/png": "[encoded data removed]",
      "text/plain": [
       "<Figure size 288x360 with 1 Axes>"
      ]
     },
     "metadata": {
      "needs_background": "light"
     },
     "output_type": "display_data"
    }
   ],
   "source": [
    "# bar plot between user type and duration \n",
    "plt.figure(figsize=[4, 5])\n",
    "\n",
    "sb.barplot(data= df, x='user_type', y='duration_mins')\n",
    "plt.xlabel('User Type')\n",
    "plt.ylabel('Trip AVG Duration in Minute');"
   ]
  },
  {
   "cell_type": "markdown",
   "metadata": {
    "slideshow": {
     "slide_type": "slide"
    }
   },
   "source": [
    "###### looks like Customers have higher average duration than Subscribers, however Subscribers have the higher number of trips"
   ]
  },
  {
   "cell_type": "code",
   "execution_count": 40,
   "metadata": {
    "slideshow": {
     "slide_type": "slide"
    }
   },
   "outputs": [
    {
     "data": {
      "image/png": "[encoded data removed]",
      "text/plain": [
       "<Figure size 576x360 with 1 Axes>"
      ]
     },
     "metadata": {
      "needs_background": "light"
     },
     "output_type": "display_data"
    }
   ],
   "source": [
    "# pointplot between 'bike_share_for_all_trip' and duration\n",
    "plt.figure(figsize=[8, 5])\n",
    "sb.pointplot(data = df, x = 'bike_share_for_all_trip', y = 'duration_mins', linestyles= '')\n",
    "plt.ylabel('AVG Duration in Mins');"
   ]
  },
  {
   "cell_type": "code",
   "execution_count": 41,
   "metadata": {
    "slideshow": {
     "slide_type": "slide"
    }
   },
   "outputs": [
    {
     "data": {
      "image/png": "[encoded data removed]",
      "text/plain": [
       "<Figure size 288x360 with 1 Axes>"
      ]
     },
     "metadata": {
      "needs_background": "light"
     },
     "output_type": "display_data"
    }
   ],
   "source": [
    "# barplot between age group and duration\n",
    "plt.figure(figsize=[4, 5])\n",
    "\n",
    "sb.barplot(data= df, x='member_age_group', y='duration_mins')\n",
    "plt.xlabel('Member Age Group')\n",
    "plt.ylabel('Trip AVG Duration in Minute');"
   ]
  },
  {
   "cell_type": "code",
   "execution_count": 42,
   "metadata": {
    "scrolled": false,
    "slideshow": {
     "slide_type": "slide"
    }
   },
   "outputs": [
    {
     "data": {
      "image/png": "[encoded data removed]",
      "text/plain": [
       "<Figure size 288x360 with 1 Axes>"
      ]
     },
     "metadata": {
      "needs_background": "light"
     },
     "output_type": "display_data"
    }
   ],
   "source": [
    "# make the gender between male and females\n",
    "x_data = df.query(\"member_gender == 'Male' | member_gender == 'Female'\")\n",
    "\n",
    "# barplot between duration and gender\n",
    "plt.figure(figsize=[4, 5])\n",
    "sb.barplot(data= x_data, x='member_gender', y='duration_mins')\n",
    "plt.xlabel('Member Gender')\n",
    "plt.ylabel('Trip AVG Duration in Minute');"
   ]
  },
  {
   "cell_type": "markdown",
   "metadata": {
    "slideshow": {
     "slide_type": "slide"
    }
   },
   "source": [
    "###### Looking to the variables we conclude that :<br>\n",
    "<br>\n",
    "1- Sunday and Saturday have the highest duration average with lower number of trips.\n",
    "<br>\n",
    "2- Customers have higher average duration than Subscribers.\n",
    "<br>\n",
    "3- Bike share for all trip works only with trips that have lower duration.\n",
    "<br>\n",
    "4- it looks like that the age group doesn't affect the duration of the trip that much.\n",
    "<br>\n",
    "5- females have higher average duration trips, while men have higher trip number."
   ]
  },
  {
   "cell_type": "markdown",
   "metadata": {
    "slideshow": {
     "slide_type": "slide"
    }
   },
   "source": [
    "###### let's devide those variables to subgroups to look for patterns :"
   ]
  },
  {
   "cell_type": "code",
   "execution_count": 43,
   "metadata": {
    "slideshow": {
     "slide_type": "slide"
    }
   },
   "outputs": [
    {
     "data": {
      "image/png": "[encoded data removed]",
      "text/plain": [
       "<Figure size 576x360 with 1 Axes>"
      ]
     },
     "metadata": {
      "needs_background": "light"
     },
     "output_type": "display_data"
    }
   ],
   "source": [
    "# divide the age group to subgroups of member gender\n",
    "plt.figure(figsize=[8, 5])\n",
    "sb.countplot(data = x_data, x = 'member_age_group', hue = 'member_gender')\n",
    "plt.xlabel('Member Age Group');"
   ]
  },
  {
   "cell_type": "code",
   "execution_count": 44,
   "metadata": {
    "slideshow": {
     "slide_type": "slide"
    }
   },
   "outputs": [
    {
     "data": {
      "image/png": "[encoded data removed]",
      "text/plain": [
       "<Figure size 576x360 with 1 Axes>"
      ]
     },
     "metadata": {
      "needs_background": "light"
     },
     "output_type": "display_data"
    }
   ],
   "source": [
    "# divide day hours to subgroups of member gender\n",
    "plt.figure(figsize=[8, 5])\n",
    "sb.countplot(data= x_data, x='start_hour', hue='member_gender');\n",
    "plt.xlabel('Hour of Day');\n",
    "plt.ylabel('Count');"
   ]
  },
  {
   "cell_type": "code",
   "execution_count": 45,
   "metadata": {
    "slideshow": {
     "slide_type": "slide"
    }
   },
   "outputs": [
    {
     "data": {
      "image/png": "[encoded data removed]",
      "text/plain": [
       "<Figure size 576x360 with 1 Axes>"
      ]
     },
     "metadata": {
      "needs_background": "light"
     },
     "output_type": "display_data"
    }
   ],
   "source": [
    "# divide day hours to subgroups of bike share for all trip or not\n",
    "plt.figure(figsize=[8, 5])\n",
    "sb.countplot(data= x_data, x='start_hour', hue='bike_share_for_all_trip');\n",
    "plt.xlabel('Hour of Day');\n",
    "plt.ylabel('Count');"
   ]
  },
  {
   "cell_type": "code",
   "execution_count": 46,
   "metadata": {
    "slideshow": {
     "slide_type": "slide"
    }
   },
   "outputs": [
    {
     "data": {
      "image/png": "[encoded data removed]",
      "text/plain": [
       "<Figure size 576x360 with 1 Axes>"
      ]
     },
     "metadata": {
      "needs_background": "light"
     },
     "output_type": "display_data"
    }
   ],
   "source": [
    "# divide week days to subgroups of member gender\n",
    "plt.figure(figsize=[8, 5])\n",
    "sb.countplot(data= x_data, x='start_day', hue='member_gender');\n",
    "plt.xlabel('Days of the week');\n",
    "plt.ylabel('Count');"
   ]
  },
  {
   "cell_type": "code",
   "execution_count": 47,
   "metadata": {
    "scrolled": true,
    "slideshow": {
     "slide_type": "slide"
    }
   },
   "outputs": [
    {
     "data": {
      "image/png": "[encoded data removed]",
      "text/plain": [
       "<Figure size 576x360 with 1 Axes>"
      ]
     },
     "metadata": {
      "needs_background": "light"
     },
     "output_type": "display_data"
    }
   ],
   "source": [
    "# divide week days to subgroups of bike share for all trip or not\n",
    "plt.figure(figsize=[8, 5])\n",
    "sb.countplot(data= df, x='start_day', hue='bike_share_for_all_trip');\n",
    "plt.xlabel('Days of the week');\n",
    "plt.ylabel('Count');"
   ]
  },
  {
   "cell_type": "markdown",
   "metadata": {
    "slideshow": {
     "slide_type": "slide"
    }
   },
   "source": [
    "## Multivariate Exploration:"
   ]
  },
  {
   "cell_type": "code",
   "execution_count": 48,
   "metadata": {
    "scrolled": false,
    "slideshow": {
     "slide_type": "slide"
    }
   },
   "outputs": [
    {
     "data": {
      "image/png": "[encoded data removed]",
      "text/plain": [
       "<Figure size 576x360 with 1 Axes>"
      ]
     },
     "metadata": {
      "needs_background": "light"
     },
     "output_type": "display_data"
    }
   ],
   "source": [
    "# dividinge week days to subgroups of bike share for all trip or not against average duration\n",
    "plt.figure(figsize=[8, 5])\n",
    "sb.pointplot(data = df, x = 'start_day', y = 'duration_mins', hue = 'bike_share_for_all_trip', dodge = 0.1, linestyles= '')\n",
    "plt.xlabel('Week Days')\n",
    "plt.ylabel('AVG Duration in Mins');"
   ]
  },
  {
   "cell_type": "markdown",
   "metadata": {
    "slideshow": {
     "slide_type": "slide"
    }
   },
   "source": [
    "###### looks like the average duartion of trips is almost the same eiher bike share all trip or not, except on sunday and monday"
   ]
  },
  {
   "cell_type": "code",
   "execution_count": 49,
   "metadata": {
    "slideshow": {
     "slide_type": "-"
    }
   },
   "outputs": [
    {
     "data": {
      "text/plain": [
       "Thursday     33712\n",
       "Tuesday      30584\n",
       "Wednesday    28426\n",
       "Friday       27663\n",
       "Monday       25641\n",
       "Name: start_day, dtype: int64"
      ]
     },
     "execution_count": 49,
     "metadata": {},
     "output_type": "execute_result"
    }
   ],
   "source": [
    "# exclude Sundays and Saturdays\n",
    "x1 = df.query(\"start_day == 'Thursday' | start_day == 'Wednesday' | start_day == 'Tuesday' | start_day == 'Monday' | start_day == 'Friday'\")\n",
    "x1.start_day.value_counts()"
   ]
  },
  {
   "cell_type": "code",
   "execution_count": 50,
   "metadata": {
    "scrolled": false,
    "slideshow": {
     "slide_type": "subslide"
    }
   },
   "outputs": [
    {
     "data": {
      "image/png": "[encoded data removed]",
      "text/plain": [
       "<Figure size 864x360 with 2 Axes>"
      ]
     },
     "metadata": {
      "needs_background": "light"
     },
     "output_type": "display_data"
    }
   ],
   "source": [
    "# plotting bike_share_for_all_trip without Sundays and Saturdays\n",
    "plt.figure(figsize=[12, 5])\n",
    "\n",
    "plt.subplot(1,2,1)\n",
    "sb.barplot(data= x1, x='start_day', y = 'duration_mins', hue='bike_share_for_all_trip');\n",
    "plt.xlabel('Days of the week');\n",
    "plt.ylabel('AVG Duration in Minutes')\n",
    "\n",
    "plt.subplot(1,2,2)\n",
    "sb.barplot(data= x1, x='bike_share_for_all_trip', y='duration_mins')\n",
    "plt.xlabel('bike_share_for_all_trip')\n",
    "plt.ylabel('Trip AVG Duration in Minute');"
   ]
  },
  {
   "cell_type": "markdown",
   "metadata": {
    "slideshow": {
     "slide_type": "slide"
    }
   },
   "source": [
    "###### now, let's look how gender distributed between variables (week days, age group, user type)"
   ]
  },
  {
   "cell_type": "code",
   "execution_count": 51,
   "metadata": {
    "slideshow": {
     "slide_type": "subslide"
    }
   },
   "outputs": [
    {
     "data": {
      "image/png": "[encoded data removed]",
      "text/plain": [
       "<Figure size 576x360 with 1 Axes>"
      ]
     },
     "metadata": {
      "needs_background": "light"
     },
     "output_type": "display_data"
    }
   ],
   "source": [
    "# dividing week days to subgroups according to gender\n",
    "plt.figure(figsize=[8, 5])\n",
    "sb.pointplot(data = x_data, x = 'start_day', y = 'duration_mins', hue = 'member_gender', linestyles= '')\n",
    "plt.xlabel('Week Days')\n",
    "plt.ylabel('AVG Duration in Mins');"
   ]
  },
  {
   "cell_type": "code",
   "execution_count": 52,
   "metadata": {
    "slideshow": {
     "slide_type": "subslide"
    }
   },
   "outputs": [
    {
     "data": {
      "image/png": "[encoded data removed]",
      "text/plain": [
       "<Figure size 864x432 with 7 Axes>"
      ]
     },
     "metadata": {
      "needs_background": "light"
     },
     "output_type": "display_data"
    }
   ],
   "source": [
    "# looking to gender on each day of week individually\n",
    "g = sb.FacetGrid(data = x_data, col = 'start_day', col_wrap = 4)\n",
    "g.map(sb.barplot, 'member_gender', 'duration_mins', order = ['Female', 'Male']);"
   ]
  },
  {
   "cell_type": "code",
   "execution_count": 53,
   "metadata": {
    "slideshow": {
     "slide_type": "subslide"
    }
   },
   "outputs": [
    {
     "data": {
      "image/png": "[encoded data removed]",
      "text/plain": [
       "<Figure size 1008x360 with 2 Axes>"
      ]
     },
     "metadata": {
      "needs_background": "light"
     },
     "output_type": "display_data"
    }
   ],
   "source": [
    "# dividing each age group by gender\n",
    "plt.figure(figsize=[14, 5])\n",
    "\n",
    "plt.subplot(1,2,1)\n",
    "sb.barplot(data = x_data, x = 'member_age_group', y = 'duration_mins', hue = 'member_gender')\n",
    "plt.xlabel('Member Age Group')\n",
    "plt.ylabel('AVG Duration in Mins')\n",
    "\n",
    "plt.subplot(1,2,2)\n",
    "sb.countplot(data = x_data, x = 'member_age_group', hue = 'member_gender')\n",
    "plt.xlabel('Member Age Group')\n",
    "plt.ylabel('Trip count');"
   ]
  },
  {
   "cell_type": "code",
   "execution_count": 54,
   "metadata": {
    "scrolled": false,
    "slideshow": {
     "slide_type": "slide"
    }
   },
   "outputs": [
    {
     "data": {
      "image/png": "[encoded data removed]",
      "text/plain": [
       "<Figure size 1008x360 with 2 Axes>"
      ]
     },
     "metadata": {
      "needs_background": "light"
     },
     "output_type": "display_data"
    }
   ],
   "source": [
    "# dividing each user type by gender\n",
    "plt.figure(figsize=[14, 5])\n",
    "\n",
    "# gender and user type against average duration\n",
    "plt.subplot(1,2,1)\n",
    "sb.barplot(data = x_data, x = 'user_type', y = 'duration_mins', hue = 'member_gender')\n",
    "plt.xlabel('User type')\n",
    "plt.ylabel('AVG Duration in Mins')\n",
    "\n",
    "# gender and user type against trip count\n",
    "plt.subplot(1,2,2)\n",
    "sb.countplot(data = x_data, x = 'user_type', hue = 'member_gender')\n",
    "plt.xlabel('User Type')\n",
    "plt.ylabel('Trip count');"
   ]
  },
  {
   "cell_type": "markdown",
   "metadata": {
    "slideshow": {
     "slide_type": "subslide"
    }
   },
   "source": [
    "###### females have higher average duration trips, while men have higher trip couunt."
   ]
  },
  {
   "cell_type": "markdown",
   "metadata": {
    "slideshow": {
     "slide_type": "slide"
    }
   },
   "source": [
    "###### let's look to other member variables across each individual day..."
   ]
  },
  {
   "cell_type": "code",
   "execution_count": 55,
   "metadata": {
    "scrolled": true,
    "slideshow": {
     "slide_type": "subslide"
    }
   },
   "outputs": [
    {
     "data": {
      "image/png": "[encoded data removed]",
      "text/plain": [
       "<Figure size 864x432 with 7 Axes>"
      ]
     },
     "metadata": {
      "needs_background": "light"
     },
     "output_type": "display_data"
    }
   ],
   "source": [
    "# looking to user type on each day of week individually\n",
    "g = sb.FacetGrid(data = df, col = 'start_day', col_wrap = 4)\n",
    "g.map(sb.countplot, 'user_type', order = ['Subscriber', 'Customer']);"
   ]
  },
  {
   "cell_type": "code",
   "execution_count": 56,
   "metadata": {
    "slideshow": {
     "slide_type": "subslide"
    }
   },
   "outputs": [
    {
     "data": {
      "image/png": "[encoded data removed]",
      "text/plain": [
       "<Figure size 864x432 with 7 Axes>"
      ]
     },
     "metadata": {
      "needs_background": "light"
     },
     "output_type": "display_data"
    }
   ],
   "source": [
    "# looking to age group on each day of week individually\n",
    "g = sb.FacetGrid(data = df, col = 'start_day', col_wrap = 4)\n",
    "g.map(sb.countplot, 'member_age_group', order = ['young', 'middle aged', 'old']);"
   ]
  },
  {
   "cell_type": "code",
   "execution_count": 1,
   "metadata": {
    "slideshow": {
     "slide_type": "slide"
    }
   },
   "outputs": [
    {
     "ename": "NameError",
     "evalue": "name 'plt' is not defined",
     "output_type": "error",
     "traceback": [
      "\u001b[1;31m---------------------------------------------------------------------------\u001b[0m",
      "\u001b[1;31mNameError\u001b[0m                                 Traceback (most recent call last)",
      "\u001b[1;32m<ipython-input-1-463272e901a4>\u001b[0m in \u001b[0;36m<module>\u001b[1;34m\u001b[0m\n\u001b[1;32m----> 1\u001b[1;33m \u001b[0mplt\u001b[0m\u001b[1;33m.\u001b[0m\u001b[0mfigure\u001b[0m\u001b[1;33m(\u001b[0m\u001b[0mfigsize\u001b[0m\u001b[1;33m=\u001b[0m\u001b[1;33m[\u001b[0m\u001b[1;36m14\u001b[0m\u001b[1;33m,\u001b[0m \u001b[1;36m5\u001b[0m\u001b[1;33m]\u001b[0m\u001b[1;33m)\u001b[0m\u001b[1;33m\u001b[0m\u001b[1;33m\u001b[0m\u001b[0m\n\u001b[0m\u001b[0;32m      2\u001b[0m \u001b[1;31m# ploting user type divided by subgroups of bike share for all trip against avg duration\u001b[0m\u001b[1;33m\u001b[0m\u001b[1;33m\u001b[0m\u001b[1;33m\u001b[0m\u001b[0m\n\u001b[0;32m      3\u001b[0m \u001b[0mplt\u001b[0m\u001b[1;33m.\u001b[0m\u001b[0msubplot\u001b[0m\u001b[1;33m(\u001b[0m\u001b[1;36m1\u001b[0m\u001b[1;33m,\u001b[0m\u001b[1;36m2\u001b[0m\u001b[1;33m,\u001b[0m\u001b[1;36m1\u001b[0m\u001b[1;33m)\u001b[0m\u001b[1;33m\u001b[0m\u001b[1;33m\u001b[0m\u001b[0m\n\u001b[0;32m      4\u001b[0m \u001b[0msb\u001b[0m\u001b[1;33m.\u001b[0m\u001b[0mbarplot\u001b[0m\u001b[1;33m(\u001b[0m\u001b[0mdata\u001b[0m \u001b[1;33m=\u001b[0m \u001b[0mdf\u001b[0m\u001b[1;33m,\u001b[0m \u001b[0mx\u001b[0m \u001b[1;33m=\u001b[0m \u001b[1;34m'user_type'\u001b[0m\u001b[1;33m,\u001b[0m \u001b[0my\u001b[0m \u001b[1;33m=\u001b[0m \u001b[1;34m'duration_mins'\u001b[0m\u001b[1;33m,\u001b[0m \u001b[0mhue\u001b[0m \u001b[1;33m=\u001b[0m \u001b[1;34m'bike_share_for_all_trip'\u001b[0m\u001b[1;33m)\u001b[0m\u001b[1;33m\u001b[0m\u001b[1;33m\u001b[0m\u001b[0m\n\u001b[0;32m      5\u001b[0m \u001b[0mplt\u001b[0m\u001b[1;33m.\u001b[0m\u001b[0mxlabel\u001b[0m\u001b[1;33m(\u001b[0m\u001b[1;34m'User Type'\u001b[0m\u001b[1;33m)\u001b[0m\u001b[1;33m\u001b[0m\u001b[1;33m\u001b[0m\u001b[0m\n",
      "\u001b[1;31mNameError\u001b[0m: name 'plt' is not defined"
     ]
    }
   ],
   "source": [
    "\n",
    "plt.figure(figsize=[14, 5])\n",
    "# ploting user type divided by subgroups of bike share for all trip against avg duration\n",
    "plt.subplot(1,2,1)\n",
    "sb.barplot(data = df, x = 'user_type', y = 'duration_mins', hue = 'bike_share_for_all_trip')\n",
    "plt.xlabel('User Type')\n",
    "plt.ylabel('AVG Duration in Mins')\n",
    "# ploting user type divided by subgroups of bike share for all trip against trip count\n",
    "plt.subplot(1,2,2)\n",
    "sb.countplot(data = df, x = 'user_type', hue = 'bike_share_for_all_trip')\n",
    "plt.xlabel('User Type')\n",
    "plt.ylabel('Trip count');"
   ]
  },
  {
   "cell_type": "markdown",
   "metadata": {
    "slideshow": {
     "slide_type": "subslide"
    }
   },
   "source": [
    "###### looks like Customers never use bike share for all trip, while Subscribers do."
   ]
  },
  {
   "cell_type": "markdown",
   "metadata": {
    "slideshow": {
     "slide_type": "slide"
    }
   },
   "source": [
    "## Conclusions:<br>\n",
    "\n",
    "1. not many trips exceed one hour duration and most trips are between 3 to 30 minutes.\n",
    "<br>\n",
    "2. about 75% of our users are young people between 20's and 40's\n",
    "<br>\n",
    "3. more than 90% of our users are subscribers\n",
    "<br>\n",
    "4. about 75% of our users are males\n",
    "<br>\n",
    "5. the trip count is decreased by 50% during Sunday and Saturday\n",
    "<br>\n",
    "6. that most of trips are occur between 7 a.m and 8 p.m, and it reachs to the peak at 8 a.m and 5 p.m\n",
    "<br>\n",
    "7. the popular start stations are almost the popular end stations too.\n",
    "<br>\n",
    "8. Sunday and Saturday have the highest duration average\n",
    "<br>\n",
    "9. Customers have higher average duration than Subscribers, however Subscribers have the higher number of trips\n",
    "<br>\n",
    "10. Bike share for all trip works only with trips that have lower duration.\n",
    "<br>\n",
    "11. age group doesn't affect the duration of the trip that much.\n",
    "<br>\n",
    "12. females have higher average duration trips, while men have higher trip number.\n",
    "<br>\n",
    "13. the average duartion of trips is almost the same eiher bike share all trip or not, except on sunday and monday\n",
    "<br>\n",
    "14. Customers never use bike share for all trip, while Subscribers do."
   ]
  }
 ],
 "metadata": {
  "kernelspec": {
   "display_name": "Python 3",
   "language": "python",
   "name": "python3"
  },
  "language_info": {
   "codemirror_mode": {
    "name": "ipython",
    "version": 3
   },
   "file_extension": ".py",
   "mimetype": "text/x-python",
   "name": "python",
   "nbconvert_exporter": "python",
   "pygments_lexer": "ipython3",
   "version": "3.7.5"
  }
 },
 "nbformat": 4,
 "nbformat_minor": 2
}
